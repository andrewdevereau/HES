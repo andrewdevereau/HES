{
 "cells": [
  {
   "cell_type": "code",
   "execution_count": null,
   "metadata": {
    "collapsed": false
   },
   "outputs": [],
   "source": [
    "import pandas as pd\n",
    "import numpy as np\n",
    "from matplotlib_venn import venn3\n",
    "from matplotlib_venn import venn2\n",
    "import matplotlib.pyplot as plt\n",
    "import xml.etree.ElementTree as ET\n",
    "from cycler import cycler\n",
    "%matplotlib inline"
   ]
  },
  {
   "cell_type": "markdown",
   "metadata": {},
   "source": [
    "## First load the HES datasets"
   ]
  },
  {
   "cell_type": "code",
   "execution_count": null,
   "metadata": {
    "collapsed": true
   },
   "outputs": [],
   "source": [
    "location = 'C:/Users/Andrew Devereau/Documents/GeL/secondary data/Data applications/HES return October 2016/'\n",
    "filename = 'NIC12784_AE.txt'"
   ]
  },
  {
   "cell_type": "code",
   "execution_count": null,
   "metadata": {
    "collapsed": false,
    "scrolled": true
   },
   "outputs": [],
   "source": [
    "dataAE = pd.read_csv(location+filename, sep='|')  #this is the A&E data set"
   ]
  },
  {
   "cell_type": "code",
   "execution_count": null,
   "metadata": {
    "collapsed": true
   },
   "outputs": [],
   "source": [
    "filename = 'NIC12784_CC.txt'  #Critical care dataset\n",
    "dataCC = pd.read_csv(location+filename, sep='|')"
   ]
  },
  {
   "cell_type": "code",
   "execution_count": null,
   "metadata": {
    "collapsed": false
   },
   "outputs": [],
   "source": [
    "filename = 'NIC12784_APC.txt'   #this is the admitted patient care dataset\n",
    "dataAPC = pd.read_csv(location+filename, sep='|')"
   ]
  },
  {
   "cell_type": "code",
   "execution_count": null,
   "metadata": {
    "collapsed": false
   },
   "outputs": [],
   "source": [
    "filename = 'NIC12784_OP.txt'   #this is the outpatient dataset\n",
    "dataOP = pd.read_csv(location+filename, sep='|')"
   ]
  },
  {
   "cell_type": "markdown",
   "metadata": {},
   "source": [
    "### Get the cancer participants"
   ]
  },
  {
   "cell_type": "code",
   "execution_count": null,
   "metadata": {
    "collapsed": true
   },
   "outputs": [],
   "source": [
    "filename = 'Cancer.csv'\n",
    "cancerIDs = pd.read_csv(location+filename, sep=',')  #get the set of cancer patients sent to HES"
   ]
  },
  {
   "cell_type": "code",
   "execution_count": null,
   "metadata": {
    "collapsed": true
   },
   "outputs": [],
   "source": [
    "cancerIDs = cancerIDs.rename(columns = {'Participant Id':'STUDY_ID'})  #rename the participant Id to STUDY_ID to match results"
   ]
  },
  {
   "cell_type": "markdown",
   "metadata": {},
   "source": [
    "### Load the ICD, AE and specialty code lookup files and define lookup functions"
   ]
  },
  {
   "cell_type": "code",
   "execution_count": null,
   "metadata": {
    "collapsed": true
   },
   "outputs": [],
   "source": [
    "filename = 'Tabular.xml'       #get ICD10 code list to convert codes to names\n",
    "ICDtree = ET.parse(location+filename)\n",
    "ICDroot = ICDtree.getroot()"
   ]
  },
  {
   "cell_type": "code",
   "execution_count": null,
   "metadata": {
    "collapsed": false
   },
   "outputs": [],
   "source": [
    "def getICD(search):  #look up ICD disease name from a search code\n",
    "    for code in ICDroot.iter('diag'):\n",
    "        name = code.find('name').text\n",
    "        if name == search:\n",
    "            desc = code.find('desc').text\n",
    "            return(search + ' ' + desc)"
   ]
  },
  {
   "cell_type": "code",
   "execution_count": null,
   "metadata": {
    "collapsed": false
   },
   "outputs": [],
   "source": [
    "filename = 'ae.txt'\n",
    "aecode = {}\n",
    "with open(location+filename) as f:\n",
    "    for line in f:\n",
    "       (key, val) = line.split('\\t')\n",
    "       aecode[int(key)] = val.strip()"
   ]
  },
  {
   "cell_type": "code",
   "execution_count": null,
   "metadata": {
    "collapsed": false
   },
   "outputs": [],
   "source": [
    "def getAE(search): #look up diag code in AE data \n",
    "    try:\n",
    "        return (aecode[int(search)])\n",
    "    except:\n",
    "        return('None')"
   ]
  },
  {
   "cell_type": "code",
   "execution_count": null,
   "metadata": {
    "collapsed": false
   },
   "outputs": [],
   "source": [
    "filename = 'spefCode.txt'\n",
    "spefCode = {}\n",
    "with open(location+filename) as f:\n",
    "    for line in f:\n",
    "       (key, val) = line.split('\\t')\n",
    "       spefCode[key] = val.strip()"
   ]
  },
  {
   "cell_type": "code",
   "execution_count": null,
   "metadata": {
    "collapsed": true
   },
   "outputs": [],
   "source": [
    "def getSpef(search): #look up speciality codes\n",
    "    try:\n",
    "        return (spefCode[search])\n",
    "    except:\n",
    "        return('None')"
   ]
  },
  {
   "cell_type": "code",
   "execution_count": null,
   "metadata": {
    "collapsed": false
   },
   "outputs": [],
   "source": [
    "def getNo (prefix, max): #generate a serial number string up to max with prefix, e.g. 'OPERTN_01..24'\n",
    "    for no in range (1,max+1):\n",
    "        if no < 10:\n",
    "            yield (prefix + '0' + str(no))\n",
    "        else:\n",
    "            yield (prefix + str(no))"
   ]
  },
  {
   "cell_type": "markdown",
   "metadata": {},
   "source": [
    "### merge CC with APC to match study id with susrecid"
   ]
  },
  {
   "cell_type": "code",
   "execution_count": null,
   "metadata": {
    "collapsed": false
   },
   "outputs": [],
   "source": [
    "CCmerge = pd.merge(dataCC, dataAPC, on='SUSRECID', how = 'left')   "
   ]
  },
  {
   "cell_type": "markdown",
   "metadata": {},
   "source": [
    "### Make cancer subsets of the HES data sets"
   ]
  },
  {
   "cell_type": "code",
   "execution_count": null,
   "metadata": {
    "collapsed": true
   },
   "outputs": [],
   "source": [
    "cancerCC = CCmerge[(CCmerge['STUDY_ID'].isin(cancerIDs['STUDY_ID']))] "
   ]
  },
  {
   "cell_type": "code",
   "execution_count": null,
   "metadata": {
    "collapsed": false
   },
   "outputs": [],
   "source": [
    "cancerCC.info(verbose=True, null_counts=True)"
   ]
  },
  {
   "cell_type": "code",
   "execution_count": null,
   "metadata": {
    "collapsed": false
   },
   "outputs": [],
   "source": [
    "cancerAE = dataAE[(dataAE['STUDY_ID'].isin(cancerIDs['STUDY_ID']))] "
   ]
  },
  {
   "cell_type": "code",
   "execution_count": null,
   "metadata": {
    "collapsed": false
   },
   "outputs": [],
   "source": [
    "cancerAE.info()"
   ]
  },
  {
   "cell_type": "code",
   "execution_count": null,
   "metadata": {
    "collapsed": false
   },
   "outputs": [],
   "source": [
    "len(cancerAE['STUDY_ID'].value_counts())"
   ]
  },
  {
   "cell_type": "code",
   "execution_count": null,
   "metadata": {
    "collapsed": false
   },
   "outputs": [],
   "source": [
    "cancerAE.info(verbose=True, null_counts=True)"
   ]
  },
  {
   "cell_type": "code",
   "execution_count": null,
   "metadata": {
    "collapsed": false
   },
   "outputs": [],
   "source": [
    "cancerAPC = dataAPC[(dataAPC['STUDY_ID'].isin(cancerIDs['STUDY_ID']))]   #get cancer patients from APC results"
   ]
  },
  {
   "cell_type": "code",
   "execution_count": null,
   "metadata": {
    "collapsed": false
   },
   "outputs": [],
   "source": [
    "cancerAPC.info()"
   ]
  },
  {
   "cell_type": "code",
   "execution_count": null,
   "metadata": {
    "collapsed": false
   },
   "outputs": [],
   "source": [
    "len(cancerAPC['STUDY_ID'].value_counts())"
   ]
  },
  {
   "cell_type": "code",
   "execution_count": null,
   "metadata": {
    "collapsed": false
   },
   "outputs": [],
   "source": [
    "cancerAPC.info(verbose=True, null_counts=True)"
   ]
  },
  {
   "cell_type": "code",
   "execution_count": null,
   "metadata": {
    "collapsed": true
   },
   "outputs": [],
   "source": [
    "cancerOP = dataOP[(dataOP['STUDY_ID'].isin(cancerIDs['STUDY_ID']))]   #get cancer patients from OP results"
   ]
  },
  {
   "cell_type": "code",
   "execution_count": null,
   "metadata": {
    "collapsed": false
   },
   "outputs": [],
   "source": [
    "cancerOP.info(verbose=True, null_counts=True)"
   ]
  },
  {
   "cell_type": "markdown",
   "metadata": {},
   "source": [
    "### Add consent dates to the cancer data sets"
   ]
  },
  {
   "cell_type": "code",
   "execution_count": null,
   "metadata": {
    "collapsed": true
   },
   "outputs": [],
   "source": [
    "filename = 'cancer_consent_2016-11-28_16-34-24.xlsx'\n",
    "consentDates = pd.read_excel(location+filename)  #get consent dates"
   ]
  },
  {
   "cell_type": "code",
   "execution_count": null,
   "metadata": {
    "collapsed": false
   },
   "outputs": [],
   "source": [
    "consentDates = consentDates.drop_duplicates('Participant Identifiers Id', keep='first')  #remove duplicate records"
   ]
  },
  {
   "cell_type": "code",
   "execution_count": null,
   "metadata": {
    "collapsed": false,
    "scrolled": true
   },
   "outputs": [],
   "source": [
    "consentDates.drop(['Metadata Date', 'Event Date', 'Consent Given Id'], axis=1, inplace=True) #remove all columns except participant ID and date"
   ]
  },
  {
   "cell_type": "code",
   "execution_count": null,
   "metadata": {
    "collapsed": true
   },
   "outputs": [],
   "source": [
    "consentDates.rename(columns={'Participant Identifiers Id': 'STUDY_ID'}, inplace=True) #rename participant to STUDY_ID"
   ]
  },
  {
   "cell_type": "code",
   "execution_count": null,
   "metadata": {
    "collapsed": false
   },
   "outputs": [],
   "source": [
    "consentDates.head()"
   ]
  },
  {
   "cell_type": "code",
   "execution_count": null,
   "metadata": {
    "collapsed": false
   },
   "outputs": [],
   "source": [
    "cancerIDs[~(cancerIDs['STUDY_ID'].isin(consentDates['STUDY_ID']))]  #check for any cancerIDs not in the consentDates set"
   ]
  },
  {
   "cell_type": "code",
   "execution_count": null,
   "metadata": {
    "collapsed": false
   },
   "outputs": [],
   "source": [
    "cancerCC = pd.merge(cancerCC, consentDates, on='STUDY_ID', how = 'left')"
   ]
  },
  {
   "cell_type": "code",
   "execution_count": null,
   "metadata": {
    "collapsed": false
   },
   "outputs": [],
   "source": [
    "cancerAE = pd.merge(cancerAE, consentDates, on='STUDY_ID', how = 'left')\n",
    "cancerAPC = pd.merge(cancerAPC, consentDates, on='STUDY_ID', how = 'left')\n",
    "cancerOP = pd.merge(cancerOP, consentDates, on='STUDY_ID', how = 'left')"
   ]
  },
  {
   "cell_type": "markdown",
   "metadata": {},
   "source": [
    "### Look for radiotherapy using Specialty codes 370 and 800 in APC and OP"
   ]
  },
  {
   "cell_type": "code",
   "execution_count": null,
   "metadata": {
    "collapsed": true
   },
   "outputs": [],
   "source": [
    "def convertSpef (spef):  #some spef codes are integers or floats- convert to strings\n",
    "    if type(spef) == int:\n",
    "        return str(spef)\n",
    "    elif type(spef) == float:\n",
    "        return str(int(spef))\n",
    "    else:\n",
    "        return spef"
   ]
  },
  {
   "cell_type": "code",
   "execution_count": null,
   "metadata": {
    "collapsed": true
   },
   "outputs": [],
   "source": [
    "spefList = ['370', '800', 370, 800]  #list of speciality codes to indicate radiotherapy. Both int and string values are present"
   ]
  },
  {
   "cell_type": "code",
   "execution_count": null,
   "metadata": {
    "collapsed": false
   },
   "outputs": [],
   "source": [
    "oncologyAPCPatients = cancerAPC[((cancerAPC.MAINSPEF.isin(spefList)) | (cancerAPC.TRETSPEF.isin(spefList))) & (pd.to_datetime(cancerAPC.ADMIDATE) < cancerAPC['Date Of Consent'])]"
   ]
  },
  {
   "cell_type": "code",
   "execution_count": null,
   "metadata": {
    "collapsed": false
   },
   "outputs": [],
   "source": [
    "len(oncologyAPCPatients['STUDY_ID'].unique())"
   ]
  },
  {
   "cell_type": "code",
   "execution_count": null,
   "metadata": {
    "collapsed": false
   },
   "outputs": [],
   "source": [
    "oncologyOPPatients = cancerOP[((cancerOP.MAINSPEF.isin(spefList))|(cancerOP.TRETSPEF.isin(spefList))) & (pd.to_datetime(cancerOP.APPTDATE) < cancerOP['Date Of Consent'])]"
   ]
  },
  {
   "cell_type": "code",
   "execution_count": null,
   "metadata": {
    "collapsed": false
   },
   "outputs": [],
   "source": [
    "len(oncologyOPPatients['STUDY_ID'].unique())"
   ]
  },
  {
   "cell_type": "code",
   "execution_count": null,
   "metadata": {
    "collapsed": true
   },
   "outputs": [],
   "source": [
    "columnVals = ['STUDY_ID', 'ADMIDATE', 'MAINSPEF', 'TRETSPEF', 'APPTDATE', 'Date Of Consent']  #create subsets from APC and OP for just these columns\n",
    "APCsubset = oncologyAPCPatients.loc[:, oncologyAPCPatients.columns.isin(columnVals)]\n",
    "OPsubset = oncologyOPPatients.loc[:, oncologyOPPatients.columns.isin(columnVals)]\n",
    "APCsubset = APCsubset.rename(columns = {'ADMIDATE':'DATE'}) #rename the different date fields to 'DATE'\n",
    "OPsubset = OPsubset.rename(columns = {'APPTDATE':'DATE'}) "
   ]
  },
  {
   "cell_type": "code",
   "execution_count": null,
   "metadata": {
    "collapsed": false
   },
   "outputs": [],
   "source": [
    "oncologyHES = pd.concat([APCsubset, OPsubset])  #make a single subset of participants"
   ]
  },
  {
   "cell_type": "code",
   "execution_count": null,
   "metadata": {
    "collapsed": false
   },
   "outputs": [],
   "source": [
    "oncologyHES['TRETSPEF'].value_counts().index"
   ]
  },
  {
   "cell_type": "code",
   "execution_count": null,
   "metadata": {
    "collapsed": false
   },
   "outputs": [],
   "source": [
    "oncologyHES['MAINSPEF'] = oncologyHES['MAINSPEF'].apply(convertSpef)\n",
    "oncologyHES['TRETSPEF'] = oncologyHES['TRETSPEF'].apply(convertSpef)"
   ]
  },
  {
   "cell_type": "code",
   "execution_count": null,
   "metadata": {
    "collapsed": false
   },
   "outputs": [],
   "source": [
    "len(oncologyHES['STUDY_ID'].unique()) #189 pariticpants have an oncology specialty history"
   ]
  },
  {
   "cell_type": "code",
   "execution_count": null,
   "metadata": {
    "collapsed": true
   },
   "outputs": [],
   "source": [
    "def getNewID (ID, IDDict):   #function to create new participant ID for plotting purposes\n",
    "    return IDDict.get(ID)"
   ]
  },
  {
   "cell_type": "code",
   "execution_count": null,
   "metadata": {
    "collapsed": false
   },
   "outputs": [],
   "source": [
    "IDs = list(np.sort(oncologyHES['STUDY_ID'].unique()))\n",
    "newIDs = list(int(x) for x in range(1,len(IDs)))\n",
    "zipped = zip(IDs, newIDs)\n",
    "IDDict = dict(zip(IDs, newIDs))   #create a dictionary mapping STUDY_ID to a new smaller ID"
   ]
  },
  {
   "cell_type": "code",
   "execution_count": null,
   "metadata": {
    "collapsed": true
   },
   "outputs": [],
   "source": [
    "oncologyHES['ID'] = oncologyHES['STUDY_ID'].apply(getNewID, args =(IDDict,))  #add new column with new ID"
   ]
  },
  {
   "cell_type": "code",
   "execution_count": null,
   "metadata": {
    "collapsed": false
   },
   "outputs": [],
   "source": [
    "groups1 = oncologyHES.groupby('MAINSPEF')   #create a timeseries plot grouped by specialty code\n",
    "groups2 = oncologyHES.groupby('TRETSPEF')\n",
    "fig, ax = plt.subplots()\n",
    "fig.set_size_inches(15, 10)\n",
    "ax.set_ylabel('Patient number')\n",
    "for name, group in groups2:\n",
    "    if name in ['370', '800']:\n",
    "        ax.plot(pd.to_datetime(group['DATE']), group['ID'], label = name, linestyle='none', marker='o', color = 'r', alpha=1)\n",
    "    else:\n",
    "        ax.plot(pd.to_datetime(group['DATE']), group['ID'], label = name, linestyle='none', marker='.', color = 'b', alpha=1)\n",
    "for name, group in groups1:\n",
    "    if name in ['370', '800']:\n",
    "        ax.plot(pd.to_datetime(group['DATE']), group['ID'], label = name, linestyle='none', marker='o', color = 'r', alpha=1)\n",
    "    else:\n",
    "        ax.plot(pd.to_datetime(group['DATE']), group['ID'], label = name, linestyle='none', marker='.', color = 'b', alpha=1)\n",
    "#ax.legend(loc='best')\n",
    "\n",
    "plt.show()"
   ]
  },
  {
   "cell_type": "code",
   "execution_count": null,
   "metadata": {
    "collapsed": false
   },
   "outputs": [],
   "source": [
    "mainSpef = oncologyHES['MAINSPEF'].value_counts().sort_values(ascending=False).to_frame()"
   ]
  },
  {
   "cell_type": "code",
   "execution_count": null,
   "metadata": {
    "collapsed": false
   },
   "outputs": [],
   "source": [
    "mainSpef['Specialty'] = mainSpef.index.map(getSpef)"
   ]
  },
  {
   "cell_type": "code",
   "execution_count": null,
   "metadata": {
    "collapsed": false
   },
   "outputs": [],
   "source": [
    "mainSpef  #these are the specialties with frequencies"
   ]
  },
  {
   "cell_type": "code",
   "execution_count": null,
   "metadata": {
    "collapsed": false
   },
   "outputs": [],
   "source": [
    "tretSpef = oncologyHES['TRETSPEF'].value_counts().sort_values(ascending=False).to_frame()\n",
    "tretSpef['Specialty'] = tretSpef.index.map(getSpef)"
   ]
  },
  {
   "cell_type": "code",
   "execution_count": null,
   "metadata": {
    "collapsed": false
   },
   "outputs": [],
   "source": [
    "tretSpef"
   ]
  },
  {
   "cell_type": "code",
   "execution_count": null,
   "metadata": {
    "collapsed": false
   },
   "outputs": [],
   "source": [
    "oncPatients = pd.DataFrame(oncologyHES.STUDY_ID.value_counts().index)"
   ]
  },
  {
   "cell_type": "code",
   "execution_count": null,
   "metadata": {
    "collapsed": false
   },
   "outputs": [],
   "source": [
    "oncPatients.to_excel('oncologyHES.xlsx', index=False)  #save a list of the oncology patients"
   ]
  }
 ],
 "metadata": {
  "kernelspec": {
   "display_name": "Python 3",
   "language": "python",
   "name": "python3"
  },
  "language_info": {
   "codemirror_mode": {
    "name": "ipython",
    "version": 3
   },
   "file_extension": ".py",
   "mimetype": "text/x-python",
   "name": "python",
   "nbconvert_exporter": "python",
   "pygments_lexer": "ipython3",
   "version": "3.5.1"
  }
 },
 "nbformat": 4,
 "nbformat_minor": 0
}
