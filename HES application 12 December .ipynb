{
 "cells": [
  {
   "cell_type": "markdown",
   "metadata": {},
   "source": [
    "# This transforms 'Registration_RD and Cancer 12_12_2016.xlsx' spreadsheet generated 12 December 2016 into csv for application to HES "
   ]
  },
  {
   "cell_type": "markdown",
   "metadata": {},
   "source": [
    "## import libraries and declare functions"
   ]
  },
  {
   "cell_type": "code",
   "execution_count": null,
   "metadata": {
    "collapsed": true
   },
   "outputs": [],
   "source": [
    "import pandas as pd\n",
    "import numpy as np\n",
    "import re\n",
    "from matplotlib_venn import venn2\n",
    "%matplotlib inline"
   ]
  },
  {
   "cell_type": "code",
   "execution_count": null,
   "metadata": {
    "collapsed": true
   },
   "outputs": [],
   "source": [
    "def modulo(num):   #define a function to test modulo 11 check bit\n",
    "    if type(num) != int: return False\n",
    "    num = str(num)\n",
    "    if len(num) != 10:\n",
    "        return False\n",
    "    sum = 0\n",
    "    for n in range(9):\n",
    "        sum += int(num[n]) * (10-n)\n",
    "    rem = 11 - sum%11\n",
    "    if rem == 11:\n",
    "        rem = 0\n",
    "    elif rem == 10:\n",
    "        return False\n",
    "    if rem == int(num[9]):\n",
    "        return True\n",
    "    else:\n",
    "        return False\n",
    "    "
   ]
  },
  {
   "cell_type": "code",
   "execution_count": null,
   "metadata": {
    "collapsed": false
   },
   "outputs": [],
   "source": [
    "def genderCode(gender): #convert gender strings(male, female, '1', '2' etc) to int codes (1,2)\n",
    "    if gender == 'Male':\n",
    "        return 1\n",
    "    elif gender == '1':\n",
    "        return 1\n",
    "    elif gender == 1:\n",
    "        return 1\n",
    "    elif gender == 'Female':\n",
    "        return 2\n",
    "    elif gender == '2':\n",
    "        return 2\n",
    "    elif gender == 2:\n",
    "        return 2\n",
    "    elif gender == 'Not Specified':\n",
    "        return 9\n",
    "    elif gender == '9':\n",
    "        return 9\n",
    "    elif gender == 9:\n",
    "        return 9\n",
    "    else:\n",
    "        return 0   #default to 0 = not known for anything not in the above\n",
    "    "
   ]
  },
  {
   "cell_type": "code",
   "execution_count": null,
   "metadata": {
    "collapsed": false
   },
   "outputs": [],
   "source": [
    "def postcodeCheck(code): #checks the postcode, returns True if it is valid, False if not\n",
    "    result = re.findall(\"[A-Z]{1,2}[\\dR][\\dA-Z]? \\d[ABD-HJLNP-UW-Z]{2}\",str(code))\n",
    "    if len(result) == 0:\n",
    "        return False\n",
    "    else:\n",
    "        return True"
   ]
  },
  {
   "cell_type": "code",
   "execution_count": null,
   "metadata": {
    "collapsed": false
   },
   "outputs": [],
   "source": [
    "def postcodeFix(code): #adds a missing space to incorrect postcodes\n",
    "    if len(str(code)) < 6 or len(str(code)) > 9:  #if there are not six digits return an error\n",
    "        return np.NaN\n",
    "    else:\n",
    "        code = str(code)\n",
    "        if code[-5:-3] == '  ':   #if there is a double gap\n",
    "            return code[0:len(code)-4] + code[-3:]  #return a string with one gap\n",
    "        elif code[-4:-3] != ' ':  #if there is no gap\n",
    "            return code[0:len(code)-3] + ' ' + code[-3:]  #return a string with a gap\n",
    "        else:\n",
    "            return np.NaN"
   ]
  },
  {
   "cell_type": "markdown",
   "metadata": {},
   "source": [
    "### load raw data sets"
   ]
  },
  {
   "cell_type": "code",
   "execution_count": null,
   "metadata": {
    "collapsed": false
   },
   "outputs": [],
   "source": [
    "location = 'C:/Users/Andrew Devereau/Documents/GeL/secondary data/Data applications/HES application December 2016/'\n",
    "filename = 'Registration_RD and Cancer 12_12_2016.xlsx'  #there are two tabs in the spreadsheet - RD and Cancer"
   ]
  },
  {
   "cell_type": "code",
   "execution_count": null,
   "metadata": {
    "collapsed": false
   },
   "outputs": [],
   "source": [
    "RDData = pd.read_excel(location+filename, sheetname='RD', header=0,)  #get the rare disease data tab"
   ]
  },
  {
   "cell_type": "code",
   "execution_count": null,
   "metadata": {
    "collapsed": true
   },
   "outputs": [],
   "source": [
    "CaData = pd.read_excel(location+filename, sheetname='Cancer', header=0,)    #get the Cancer data tab"
   ]
  },
  {
   "cell_type": "code",
   "execution_count": null,
   "metadata": {
    "collapsed": false,
    "scrolled": false
   },
   "outputs": [],
   "source": [
    "RDData.head()"
   ]
  },
  {
   "cell_type": "code",
   "execution_count": null,
   "metadata": {
    "collapsed": false
   },
   "outputs": [],
   "source": [
    "RDData.rename(columns={'Participant Identifiers Id': 'Participant Id'}, inplace=True)  #rename this column to be the same as Cancer\n",
    "RDData.rename(columns={'Person Stated Gender Id': 'Person Stated Gender'}, inplace=True)  #rename to be consistent with pilot data\n",
    "CaData.rename(columns={'Person Stated Gender Id': 'Person Stated Gender'}, inplace=True)  #rename to be consistent with pilot data"
   ]
  },
  {
   "cell_type": "code",
   "execution_count": null,
   "metadata": {
    "collapsed": false
   },
   "outputs": [],
   "source": [
    "RDData.info()"
   ]
  },
  {
   "cell_type": "code",
   "execution_count": null,
   "metadata": {
    "collapsed": false
   },
   "outputs": [],
   "source": [
    "CaData.head()"
   ]
  },
  {
   "cell_type": "code",
   "execution_count": null,
   "metadata": {
    "collapsed": false
   },
   "outputs": [],
   "source": [
    "CaData.info()"
   ]
  },
  {
   "cell_type": "code",
   "execution_count": null,
   "metadata": {
    "collapsed": true
   },
   "outputs": [],
   "source": [
    "pilotData = pd.read_excel(location+'Pilot_Participants.xlsx', sheetname=0, header=0,)  #load pilot data, same as October application\n",
    "pilotData['Date Of Birth'] = pd.to_datetime(pilotData['Date Of Birth'], errors = 'coerce')  #turn dob into datatime"
   ]
  },
  {
   "cell_type": "code",
   "execution_count": null,
   "metadata": {
    "collapsed": false
   },
   "outputs": [],
   "source": [
    "pilotData.info()"
   ]
  },
  {
   "cell_type": "markdown",
   "metadata": {},
   "source": [
    "### Combine the data sets"
   ]
  },
  {
   "cell_type": "code",
   "execution_count": null,
   "metadata": {
    "collapsed": true
   },
   "outputs": [],
   "source": [
    "fullData = pd.concat([RDData, CaData, pilotData],ignore_index=True)    #use ignore_index to re-index the rows"
   ]
  },
  {
   "cell_type": "code",
   "execution_count": null,
   "metadata": {
    "collapsed": true
   },
   "outputs": [],
   "source": [
    "fullData = fullData[['Participant Id', 'Nhs Number', 'Date Of Birth', 'Person Stated Gender', 'Pcd Postcode']] #rearrange the column order"
   ]
  },
  {
   "cell_type": "code",
   "execution_count": null,
   "metadata": {
    "collapsed": false
   },
   "outputs": [],
   "source": [
    "fullData.info()"
   ]
  },
  {
   "cell_type": "markdown",
   "metadata": {},
   "source": [
    "### First correct gender codes - make all into integers"
   ]
  },
  {
   "cell_type": "code",
   "execution_count": null,
   "metadata": {
    "collapsed": false
   },
   "outputs": [],
   "source": [
    "fullData['Person Stated Gender'].value_counts()  #see what values are held for genders - integers, strings, words and missing values"
   ]
  },
  {
   "cell_type": "code",
   "execution_count": null,
   "metadata": {
    "collapsed": false
   },
   "outputs": [],
   "source": [
    "fullData[fullData['Person Stated Gender'] == 'X']  #this is a new participant since October, there is little information"
   ]
  },
  {
   "cell_type": "markdown",
   "metadata": {},
   "source": [
    "### Make all gender codes integers. The blank values will be given 0. The record with X will also be set to 0."
   ]
  },
  {
   "cell_type": "code",
   "execution_count": null,
   "metadata": {
    "collapsed": true
   },
   "outputs": [],
   "source": [
    "fullData['Person Stated Gender'] = fullData['Person Stated Gender'].apply(genderCode)  #genderCode function replaces codes with integers"
   ]
  },
  {
   "cell_type": "code",
   "execution_count": null,
   "metadata": {
    "collapsed": false
   },
   "outputs": [],
   "source": [
    "fullData['Person Stated Gender'].value_counts()  #show corrected gender values"
   ]
  },
  {
   "cell_type": "markdown",
   "metadata": {},
   "source": [
    "### Next correct postcodes "
   ]
  },
  {
   "cell_type": "code",
   "execution_count": null,
   "metadata": {
    "collapsed": false
   },
   "outputs": [],
   "source": [
    "invalidPostcode = fullData[~fullData['Pcd Postcode'].apply(postcodeCheck)]   #find any rows with invalid postcodes using postcodeCheck function\n",
    "invalidPostcode.count() #show the number of rows in the invalid postcode list. Only 1431 rows have a non-null postcode"
   ]
  },
  {
   "cell_type": "code",
   "execution_count": null,
   "metadata": {
    "collapsed": false
   },
   "outputs": [],
   "source": [
    "fullData.set_value(invalidPostcode.index,'Pcd Postcode', fullData.iloc[invalidPostcode.index,4].apply(postcodeFix))  #fix postcodes with incorrect spaces. Column 4 is the postcode column\n",
    "fullData[~fullData['Pcd Postcode'].apply(postcodeCheck)].count()   #count how many postcodes are still invalid - nearly 1400 have been corrected"
   ]
  },
  {
   "cell_type": "code",
   "execution_count": null,
   "metadata": {
    "collapsed": false
   },
   "outputs": [],
   "source": [
    "fullData['Pcd Postcode'] = fullData['Pcd Postcode'].fillna(value='NULL')  #replace reamining missing postcodes with NULL"
   ]
  },
  {
   "cell_type": "markdown",
   "metadata": {},
   "source": [
    "### There are many identical rows - remove these"
   ]
  },
  {
   "cell_type": "code",
   "execution_count": null,
   "metadata": {
    "collapsed": false
   },
   "outputs": [],
   "source": [
    "fullData = fullData.drop_duplicates().reset_index(drop=True)  #reset the index after dropping duplicate rows"
   ]
  },
  {
   "cell_type": "code",
   "execution_count": null,
   "metadata": {
    "collapsed": false
   },
   "outputs": [],
   "source": [
    "fullData.info()   #over 6000 duplicate rows were removed"
   ]
  },
  {
   "cell_type": "markdown",
   "metadata": {},
   "source": [
    "### Look at NHS numbers"
   ]
  },
  {
   "cell_type": "code",
   "execution_count": null,
   "metadata": {
    "collapsed": false
   },
   "outputs": [],
   "source": [
    "fullData['Nhs Number'].value_counts()[:30]  #look for most frequent duplicated numbers"
   ]
  },
  {
   "cell_type": "code",
   "execution_count": null,
   "metadata": {
    "collapsed": false
   },
   "outputs": [],
   "source": [
    "invalid = fullData[~fullData['Nhs Number'].apply(modulo)]   #find any rows with invalid NHS no\n",
    "invalid.to_excel(location+'invalidNHS.xlsx', index=False)   #save an excel sheet of invalid NHS numbers\n",
    "invalid   #show invalids - there are 61"
   ]
  },
  {
   "cell_type": "markdown",
   "metadata": {},
   "source": [
    "its possible that some without a valid NHS number could be a duplicate with a main programme participant with a different Participant Id"
   ]
  },
  {
   "cell_type": "markdown",
   "metadata": {},
   "source": [
    "### set invalid NHS numbers to NULL"
   ]
  },
  {
   "cell_type": "code",
   "execution_count": null,
   "metadata": {
    "collapsed": false
   },
   "outputs": [],
   "source": [
    "fullData.set_value(invalid.index,'Nhs Number', 'NULL')   #set the invalid NHS No to NULL\n",
    "fullData.loc[invalid.index, :]   #show the changed rows"
   ]
  },
  {
   "cell_type": "markdown",
   "metadata": {},
   "source": [
    "### Remove fake NHS numbers e.g. 22222222222, 33333333333, 9999999999 "
   ]
  },
  {
   "cell_type": "code",
   "execution_count": null,
   "metadata": {
    "collapsed": false
   },
   "outputs": [],
   "source": [
    "fakeNHSlist = [2222222222, 3333333333, 4444444444, 5555555555, 6666666666, 7777777777, 8888888888, 9999999999]   #look for these fake numbers\n",
    "fakeNHS = fullData[(fullData['Nhs Number'].isin(fakeNHSlist))]   #get a subset of records with fake numbers\n",
    "fakeNHS.to_excel(location+'fakeNHSlist.xlsx', index=False)    #save the fake NHS numbers to excel"
   ]
  },
  {
   "cell_type": "code",
   "execution_count": null,
   "metadata": {
    "collapsed": false
   },
   "outputs": [],
   "source": [
    "fullData.set_value(fakeNHS.index, 'Nhs Number', 'NULL')   #set fake values to NULL\n",
    "print(len(fakeNHS))  #there were 76 'fake' NHS numbers"
   ]
  },
  {
   "cell_type": "markdown",
   "metadata": {},
   "source": [
    "### Remove invalid dates and replace with NULL"
   ]
  },
  {
   "cell_type": "code",
   "execution_count": null,
   "metadata": {
    "collapsed": false
   },
   "outputs": [],
   "source": [
    "tooOld = fullData[(fullData['Date Of Birth'] < '1916-01-01')]   #find dates of birth which are before 1901\n",
    "tooOld"
   ]
  },
  {
   "cell_type": "code",
   "execution_count": null,
   "metadata": {
    "collapsed": false
   },
   "outputs": [],
   "source": [
    "tooYoung = fullData[(fullData['Date Of Birth'] > '2016-12-12')]   #find dates of birth which are after today (12/12/16)\n",
    "tooYoung"
   ]
  },
  {
   "cell_type": "code",
   "execution_count": null,
   "metadata": {
    "collapsed": false
   },
   "outputs": [],
   "source": [
    "tooOld.to_excel(location+'tooOld.xlsx', index=False)  #save tooOld and tooYoung sets to excel\n",
    "tooYoung.to_excel(location+'tooYoung.xlsx', index=False)"
   ]
  },
  {
   "cell_type": "code",
   "execution_count": null,
   "metadata": {
    "collapsed": false
   },
   "outputs": [],
   "source": [
    "fullData.set_value(tooOld.index,'Date Of Birth', np.NaN)   #set the invalid Dates of birth to NULL\n",
    "fullData.set_value(tooYoung.index,'Date Of Birth', np.NaN)   #set the invalid NHS No to NULL\n",
    "fullData.loc[tooOld.index, :]   #show the changed rows - there were 305 too old patients"
   ]
  },
  {
   "cell_type": "code",
   "execution_count": null,
   "metadata": {
    "collapsed": false
   },
   "outputs": [],
   "source": [
    "fullData.loc[tooYoung.index, :]   #show the changed rows - only one patient was too young"
   ]
  },
  {
   "cell_type": "markdown",
   "metadata": {},
   "source": [
    "### Analyse duplicate NHS Numbers.\n",
    "There are a lot of duplicate Nhs numbers with different genders, Ids, DOB or postcode. Assume that the NHS No is correct"
   ]
  },
  {
   "cell_type": "code",
   "execution_count": null,
   "metadata": {
    "collapsed": false
   },
   "outputs": [],
   "source": [
    "counts = fullData['Nhs Number'].value_counts()  #get a count of Nhs number frequency\n",
    "counts[:20]  #show the frequency - max non-null frequency is 3"
   ]
  },
  {
   "cell_type": "code",
   "execution_count": null,
   "metadata": {
    "collapsed": false
   },
   "outputs": [],
   "source": [
    "dups = fullData[(fullData.duplicated(['Nhs Number'], keep=False) & (fullData['Nhs Number'] != 'NULL'))] #get a subset of duplicates\n",
    "len(dups)   "
   ]
  },
  {
   "cell_type": "markdown",
   "metadata": {},
   "source": [
    "First find the triples, i.e. count = 3"
   ]
  },
  {
   "cell_type": "code",
   "execution_count": null,
   "metadata": {
    "collapsed": false
   },
   "outputs": [],
   "source": [
    "triples = fullData[(fullData['Nhs Number'].isin(counts.index[counts > 2]) & (fullData['Nhs Number']!= 'NULL'))]"
   ]
  },
  {
   "cell_type": "code",
   "execution_count": null,
   "metadata": {
    "collapsed": false
   },
   "outputs": [],
   "source": [
    "triples.sort_values('Nhs Number')  #show the results"
   ]
  },
  {
   "cell_type": "code",
   "execution_count": null,
   "metadata": {
    "collapsed": false
   },
   "outputs": [],
   "source": [
    "len(triples)  #there are 33 triples i.e. 11 sets of 3"
   ]
  },
  {
   "cell_type": "code",
   "execution_count": null,
   "metadata": {
    "collapsed": false
   },
   "outputs": [],
   "source": [
    "triples.sort_values('Nhs Number').to_excel(location+'triples.xlsx', index=False)  #save triples to excel"
   ]
  },
  {
   "cell_type": "markdown",
   "metadata": {},
   "source": [
    "Next find all remaining duplicates "
   ]
  },
  {
   "cell_type": "code",
   "execution_count": null,
   "metadata": {
    "collapsed": false
   },
   "outputs": [],
   "source": [
    "# get two aligned subsets of the duplicates with one of each duplicate in each subset\n",
    "dupsFirst = dups[(dups.duplicated(['Nhs Number'], keep ='first')) & (~dups['Nhs Number'].isin(triples['Nhs Number']))].sort_values('Nhs Number')\n",
    "dupsLast = dups[(dups.duplicated(['Nhs Number'], keep ='last')) & (~dups['Nhs Number'].isin(triples['Nhs Number']))].sort_values('Nhs Number')"
   ]
  },
  {
   "cell_type": "code",
   "execution_count": null,
   "metadata": {
    "collapsed": false
   },
   "outputs": [],
   "source": [
    "len(dupsFirst)"
   ]
  },
  {
   "cell_type": "code",
   "execution_count": null,
   "metadata": {
    "collapsed": false
   },
   "outputs": [],
   "source": [
    "len(triples) + len(dupsFirst) + len(dupsLast)  #all triple and duplicate subsets lengths add up to the length of dups therefore all cases are found"
   ]
  },
  {
   "cell_type": "code",
   "execution_count": null,
   "metadata": {
    "collapsed": false
   },
   "outputs": [],
   "source": [
    "pd.concat([dupsFirst, dupsLast]).to_excel(location+'dups.xlsx', index= False)  #send two sets of doubles to an excel file for side-by-side analysis"
   ]
  },
  {
   "cell_type": "markdown",
   "metadata": {},
   "source": [
    "### Analyse gender = 9 records\n",
    "There are 1135 values of 9 which are 'not specified'. These should probably be 0, 'not known'. However we will not remove or null these to see what is returned by HES, then we wil correct them in the next application"
   ]
  },
  {
   "cell_type": "code",
   "execution_count": null,
   "metadata": {
    "collapsed": false
   },
   "outputs": [],
   "source": [
    "gender9 = fullData[fullData['Person Stated Gender'] == 9]  #get the participants with gender set to 9\n",
    "len(gender9)"
   ]
  },
  {
   "cell_type": "code",
   "execution_count": null,
   "metadata": {
    "collapsed": false
   },
   "outputs": [],
   "source": [
    "venn2([set(gender9['Nhs Number']), set(dups['Nhs Number'])])   #this shows that many genders = 9 are duplicated suggesting the corrected record and original were in the dataset"
   ]
  },
  {
   "cell_type": "code",
   "execution_count": null,
   "metadata": {
    "collapsed": false
   },
   "outputs": [],
   "source": [
    "gender9 = fullData[fullData['Person Stated Gender'] == 9]  #extract all people with gender = 9"
   ]
  },
  {
   "cell_type": "code",
   "execution_count": null,
   "metadata": {
    "collapsed": true
   },
   "outputs": [],
   "source": [
    "gender9.to_excel('gender9.xlsx', index=False)   #save the gender = 9 cases to excel"
   ]
  },
  {
   "cell_type": "markdown",
   "metadata": {},
   "source": [
    "### Set any remaining invalid dates to NULL"
   ]
  },
  {
   "cell_type": "code",
   "execution_count": null,
   "metadata": {
    "collapsed": true
   },
   "outputs": [],
   "source": [
    "fullData['Date Of Birth'] = [d.strftime('%Y-%m-%d') if not pd.isnull(d) else 'NULL' for d in fullData['Date Of Birth']] #remove NaT vaules in dates and preserve format"
   ]
  },
  {
   "cell_type": "markdown",
   "metadata": {},
   "source": [
    "### Now remove some of the NHS number duplication\n",
    "This is done after other fields have been set to NULL"
   ]
  },
  {
   "cell_type": "code",
   "execution_count": null,
   "metadata": {
    "collapsed": true
   },
   "outputs": [],
   "source": [
    "doubles = dups[~dups['Nhs Number'].isin(triples['Nhs Number'])]  #these are the double duplicates"
   ]
  },
  {
   "cell_type": "code",
   "execution_count": null,
   "metadata": {
    "collapsed": false
   },
   "outputs": [],
   "source": [
    "doubles.head()"
   ]
  },
  {
   "cell_type": "markdown",
   "metadata": {},
   "source": [
    "Split the duplicates into two aligned sets with one duplicate row in each set"
   ]
  },
  {
   "cell_type": "code",
   "execution_count": null,
   "metadata": {
    "collapsed": false
   },
   "outputs": [],
   "source": [
    "doubleFirst = doubles.groupby('Nhs Number').head(1).sort_values(by='Nhs Number').reset_index()  #split into two groups and align indices\n",
    "doubleLast = doubles.groupby('Nhs Number').tail(1).sort_values(by='Nhs Number').reset_index()"
   ]
  },
  {
   "cell_type": "code",
   "execution_count": null,
   "metadata": {
    "collapsed": false
   },
   "outputs": [],
   "source": [
    "doubleFirst.head()  #these are the first instances of each duplicate"
   ]
  },
  {
   "cell_type": "code",
   "execution_count": null,
   "metadata": {
    "collapsed": false
   },
   "outputs": [],
   "source": [
    "doubleLast.head()  #these are the second instances of each duplicate"
   ]
  },
  {
   "cell_type": "markdown",
   "metadata": {},
   "source": [
    "Now find cases where all the duplicates are identical except for one gender which is 9 and the other is 1 or 2. The row with the 9 value is then dropped, but it can be in either the first or second set of duplicates"
   ]
  },
  {
   "cell_type": "code",
   "execution_count": null,
   "metadata": {
    "collapsed": false
   },
   "outputs": [],
   "source": [
    "len(fullData)  #check the length of the data set before removing rows"
   ]
  },
  {
   "cell_type": "code",
   "execution_count": null,
   "metadata": {
    "collapsed": true
   },
   "outputs": [],
   "source": [
    "genderChangeFirst = doubleFirst.loc[(doubleFirst['Person Stated Gender'] == 9) & (doubleLast['Person Stated Gender'].isin([1,2])) & (doubleFirst['Date Of Birth'] == doubleLast['Date Of Birth']) & (doubleFirst['Pcd Postcode'] == doubleLast['Pcd Postcode'])]"
   ]
  },
  {
   "cell_type": "code",
   "execution_count": null,
   "metadata": {
    "collapsed": false
   },
   "outputs": [],
   "source": [
    "fullData.drop(fullData.index[genderChangeFirst['index']], inplace=True)  #drop the selected duplicate rows in the first duplicate set"
   ]
  },
  {
   "cell_type": "code",
   "execution_count": null,
   "metadata": {
    "collapsed": true
   },
   "outputs": [],
   "source": [
    "genderChangeLast = doubleLast.loc[(doubleLast['Person Stated Gender'] == 9) & (doubleFirst['Person Stated Gender'].isin([1,2])) & (doubleFirst['Date Of Birth'] == doubleLast['Date Of Birth'])& (doubleFirst['Pcd Postcode'] == doubleLast['Pcd Postcode'])]"
   ]
  },
  {
   "cell_type": "code",
   "execution_count": null,
   "metadata": {
    "collapsed": true
   },
   "outputs": [],
   "source": [
    "fullData.drop(fullData.index[genderChangeLast['index']], inplace=True)   #drop the selected duplicate rows in the second duplicate set"
   ]
  },
  {
   "cell_type": "code",
   "execution_count": null,
   "metadata": {
    "collapsed": false
   },
   "outputs": [],
   "source": [
    "len(fullData)  #check the new data set length. 614 duplicates were removed"
   ]
  },
  {
   "cell_type": "markdown",
   "metadata": {},
   "source": [
    "Repeat the process for cases where one duplicate has a NULL postcode but the other has a valid postcode"
   ]
  },
  {
   "cell_type": "code",
   "execution_count": null,
   "metadata": {
    "collapsed": false
   },
   "outputs": [],
   "source": [
    "PCChangeFirst = doubleFirst.loc[(doubleFirst['Pcd Postcode'] == 'NULL') & (doubleLast['Pcd Postcode'] != 'NULL') & (doubleFirst['Date Of Birth'] == doubleLast['Date Of Birth']) & (doubleFirst['Person Stated Gender'] == doubleLast['Person Stated Gender'])]"
   ]
  },
  {
   "cell_type": "code",
   "execution_count": null,
   "metadata": {
    "collapsed": false
   },
   "outputs": [],
   "source": [
    "fullData.drop(fullData.index[PCChangeFirst['index']], inplace=True)  #drop the duplicates with NULL postcodes in hthe first duplicate set"
   ]
  },
  {
   "cell_type": "code",
   "execution_count": null,
   "metadata": {
    "collapsed": true
   },
   "outputs": [],
   "source": [
    "PCChangeLast = doubleLast.loc[(doubleLast['Pcd Postcode'] == 'NULL') & (doubleFirst['Pcd Postcode'] != 'NULL') & (doubleFirst['Date Of Birth'] == doubleLast['Date Of Birth']) & (doubleFirst['Person Stated Gender'] == doubleLast['Person Stated Gender'])]"
   ]
  },
  {
   "cell_type": "code",
   "execution_count": null,
   "metadata": {
    "collapsed": true
   },
   "outputs": [],
   "source": [
    "fullData.drop(fullData.index[PCChangeLast['index']], inplace=True)  #drop the duplicates with NULL postcodes in the second duplicate set"
   ]
  },
  {
   "cell_type": "code",
   "execution_count": null,
   "metadata": {
    "collapsed": true
   },
   "outputs": [],
   "source": [
    "fullData = fullData.reset_index(drop=True)   #reset the full dataset index following dropping of rows"
   ]
  },
  {
   "cell_type": "code",
   "execution_count": null,
   "metadata": {
    "collapsed": false
   },
   "outputs": [],
   "source": [
    "len(fullData)  #re-check the full data set length. 60 more duplicates were removed"
   ]
  },
  {
   "cell_type": "markdown",
   "metadata": {},
   "source": [
    "Now remove any rows in the triples which are identical to other rows except for a gender = 9 or a NULL postcode and the others in the triple have valid data. In some cases two records in the truple can be removed, in others only one. If two genders are given but one is 1 and one is 2 both records are left in. Removal is manual - i.e. those to be removed are identifed by eye and indicated in a list"
   ]
  },
  {
   "cell_type": "code",
   "execution_count": null,
   "metadata": {
    "collapsed": true
   },
   "outputs": [],
   "source": [
    "triples = fullData[(fullData['Nhs Number'].isin(counts.index[counts > 2]) & (fullData['Nhs Number']!= 'NULL'))]  #get this again in case the indices are different now"
   ]
  },
  {
   "cell_type": "code",
   "execution_count": null,
   "metadata": {
    "collapsed": false
   },
   "outputs": [],
   "source": [
    "triples.sort_values('Nhs Number')"
   ]
  },
  {
   "cell_type": "code",
   "execution_count": null,
   "metadata": {
    "collapsed": true
   },
   "outputs": [],
   "source": [
    "removals = [13309, 11055, 8611, 8674, 8671, 47, 11018, 9247, 10745, 12289, 10698, 10702, 11062]  #these are the records to be removed"
   ]
  },
  {
   "cell_type": "code",
   "execution_count": null,
   "metadata": {
    "collapsed": false
   },
   "outputs": [],
   "source": [
    "fullData.drop(fullData.index[removals], inplace=True)  #drop the triple duplicates given in the removals list"
   ]
  },
  {
   "cell_type": "code",
   "execution_count": null,
   "metadata": {
    "collapsed": false
   },
   "outputs": [],
   "source": [
    "fullData.info()  #the final set has 23,893 records with no missing values"
   ]
  },
  {
   "cell_type": "markdown",
   "metadata": {},
   "source": [
    "## Save the final CSV file for submission to HES"
   ]
  },
  {
   "cell_type": "code",
   "execution_count": null,
   "metadata": {
    "collapsed": false
   },
   "outputs": [],
   "source": [
    "fullData.to_csv(location+'121216.csv', index=False, date_format = '%d/%m/%Y')   #save as CSV with 'dd/mm/yyyy' date format"
   ]
  }
 ],
 "metadata": {
  "kernelspec": {
   "display_name": "Python 3",
   "language": "python",
   "name": "python3"
  },
  "language_info": {
   "codemirror_mode": {
    "name": "ipython",
    "version": 3
   },
   "file_extension": ".py",
   "mimetype": "text/x-python",
   "name": "python",
   "nbconvert_exporter": "python",
   "pygments_lexer": "ipython3",
   "version": "3.5.1"
  }
 },
 "nbformat": 4,
 "nbformat_minor": 0
}
