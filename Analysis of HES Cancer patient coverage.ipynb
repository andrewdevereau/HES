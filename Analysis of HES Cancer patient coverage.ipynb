{
 "cells": [
  {
   "cell_type": "code",
   "execution_count": null,
   "metadata": {
    "collapsed": false
   },
   "outputs": [],
   "source": [
    "import pandas as pd\n",
    "import numpy as np\n",
    "from matplotlib_venn import venn3\n",
    "from matplotlib_venn import venn2\n",
    "import matplotlib.pyplot as plt\n",
    "import xml.etree.ElementTree as ET\n",
    "from cycler import cycler\n",
    "%matplotlib inline"
   ]
  },
  {
   "cell_type": "code",
   "execution_count": null,
   "metadata": {
    "collapsed": true
   },
   "outputs": [],
   "source": [
    "location = 'C:/Users/Andrew Devereau/Documents/GeL/secondary data/Data applications/HES return October 2016/'\n",
    "filename = 'NIC12784_AE.txt'"
   ]
  },
  {
   "cell_type": "code",
   "execution_count": null,
   "metadata": {
    "collapsed": false,
    "scrolled": true
   },
   "outputs": [],
   "source": [
    "dataAE = pd.read_csv(location+filename, sep='|')  #this is the A&E data set"
   ]
  },
  {
   "cell_type": "code",
   "execution_count": null,
   "metadata": {
    "collapsed": true
   },
   "outputs": [],
   "source": [
    "filename = 'NIC12784_CC.txt'  #Critical care dataset\n",
    "dataCC = pd.read_csv(location+filename, sep='|')"
   ]
  },
  {
   "cell_type": "code",
   "execution_count": null,
   "metadata": {
    "collapsed": false
   },
   "outputs": [],
   "source": [
    "filename = 'NIC12784_APC.txt'   #this is the admitted patient care dataset\n",
    "dataAPC = pd.read_csv(location+filename, sep='|')"
   ]
  },
  {
   "cell_type": "code",
   "execution_count": null,
   "metadata": {
    "collapsed": false
   },
   "outputs": [],
   "source": [
    "filename = 'NIC12784_OP.txt'   #this is the outpatient dataset\n",
    "dataOP = pd.read_csv(location+filename, sep='|')"
   ]
  },
  {
   "cell_type": "code",
   "execution_count": null,
   "metadata": {
    "collapsed": true
   },
   "outputs": [],
   "source": [
    "filename = 'Cancer.csv'\n",
    "cancerIDs = pd.read_csv(location+filename, sep=',')  #get the set of cancer patients sent to HES"
   ]
  },
  {
   "cell_type": "code",
   "execution_count": null,
   "metadata": {
    "collapsed": true
   },
   "outputs": [],
   "source": [
    "cancerIDs = cancerIDs.rename(columns = {'Participant Id':'STUDY_ID'})  #rename the participant Id to STUDY_ID to match results"
   ]
  },
  {
   "cell_type": "code",
   "execution_count": null,
   "metadata": {
    "collapsed": true
   },
   "outputs": [],
   "source": [
    "filename = 'Tabular.xml'       #get ICD10 code list to convert codes to names\n",
    "ICDtree = ET.parse(location+filename)\n",
    "ICDroot = ICDtree.getroot()"
   ]
  },
  {
   "cell_type": "code",
   "execution_count": null,
   "metadata": {
    "collapsed": false
   },
   "outputs": [],
   "source": [
    "def getICD(search):  #look up ICD disease name from a search code\n",
    "    for code in ICDroot.iter('diag'):\n",
    "        name = code.find('name').text\n",
    "        if name == search:\n",
    "            desc = code.find('desc').text\n",
    "            return(search + ' ' + desc)"
   ]
  },
  {
   "cell_type": "code",
   "execution_count": null,
   "metadata": {
    "collapsed": false
   },
   "outputs": [],
   "source": [
    "filename = 'ae.txt'\n",
    "aecode = {}\n",
    "with open(location+filename) as f:\n",
    "    for line in f:\n",
    "       (key, val) = line.split('\\t')\n",
    "       aecode[int(key)] = val.strip()"
   ]
  },
  {
   "cell_type": "code",
   "execution_count": null,
   "metadata": {
    "collapsed": false
   },
   "outputs": [],
   "source": [
    "def getAE(search): #look up diag code in AE data \n",
    "    try:\n",
    "        return (aecode[int(search)])\n",
    "    except:\n",
    "        return('None')"
   ]
  },
  {
   "cell_type": "code",
   "execution_count": null,
   "metadata": {
    "collapsed": false
   },
   "outputs": [],
   "source": [
    "CCmerge = pd.merge(dataCC, dataAPC, on='SUSRECID', how = 'left')   #merge CC with APC to match study id with susrecid"
   ]
  },
  {
   "cell_type": "code",
   "execution_count": null,
   "metadata": {
    "collapsed": true
   },
   "outputs": [],
   "source": [
    "cancerCC = CCmerge[(CCmerge['STUDY_ID'].isin(cancerIDs['STUDY_ID']))] "
   ]
  },
  {
   "cell_type": "code",
   "execution_count": null,
   "metadata": {
    "collapsed": false
   },
   "outputs": [],
   "source": [
    "cancerCC.info()"
   ]
  },
  {
   "cell_type": "code",
   "execution_count": null,
   "metadata": {
    "collapsed": false
   },
   "outputs": [],
   "source": [
    "cancerAE = dataAE[(dataAE['STUDY_ID'].isin(cancerIDs['STUDY_ID']))] "
   ]
  },
  {
   "cell_type": "code",
   "execution_count": null,
   "metadata": {
    "collapsed": false
   },
   "outputs": [],
   "source": [
    "cancerAE.info()"
   ]
  },
  {
   "cell_type": "code",
   "execution_count": null,
   "metadata": {
    "collapsed": false
   },
   "outputs": [],
   "source": [
    "len(cancerAE['STUDY_ID'].value_counts())"
   ]
  },
  {
   "cell_type": "code",
   "execution_count": null,
   "metadata": {
    "collapsed": false
   },
   "outputs": [],
   "source": [
    "cancerAPC = dataAPC[(dataAPC['STUDY_ID'].isin(cancerIDs['STUDY_ID']))]   #get cancer patients from APC results"
   ]
  },
  {
   "cell_type": "code",
   "execution_count": null,
   "metadata": {
    "collapsed": false
   },
   "outputs": [],
   "source": [
    "cancerAPC.info()"
   ]
  },
  {
   "cell_type": "code",
   "execution_count": null,
   "metadata": {
    "collapsed": false
   },
   "outputs": [],
   "source": [
    "len(cancerAPC['STUDY_ID'].value_counts())"
   ]
  },
  {
   "cell_type": "code",
   "execution_count": null,
   "metadata": {
    "collapsed": true
   },
   "outputs": [],
   "source": [
    "cancerOP = dataOP[(dataOP['STUDY_ID'].isin(cancerIDs['STUDY_ID']))]   #get cancer patients from OP results"
   ]
  },
  {
   "cell_type": "code",
   "execution_count": null,
   "metadata": {
    "collapsed": false
   },
   "outputs": [],
   "source": [
    "cancerOP.info()"
   ]
  },
  {
   "cell_type": "code",
   "execution_count": null,
   "metadata": {
    "collapsed": false
   },
   "outputs": [],
   "source": [
    "len(cancerOP['STUDY_ID'].value_counts())"
   ]
  },
  {
   "cell_type": "markdown",
   "metadata": {},
   "source": [
    "This is to check the gender of the cancer participants using the HES data. "
   ]
  },
  {
   "cell_type": "code",
   "execution_count": null,
   "metadata": {
    "collapsed": false
   },
   "outputs": [],
   "source": [
    "grouped = cancerAPC.groupby(['STUDY_ID'])   #group by participant\n",
    "patientSexAPC = grouped['SEX'].mean()    #take a mean of all the SEX codes - inconsistency causes a fractional value\n",
    "APCSex = pd.DataFrame(patientSexAPC)   #turn the grouped SEX data into a dataframe"
   ]
  },
  {
   "cell_type": "code",
   "execution_count": null,
   "metadata": {
    "collapsed": true
   },
   "outputs": [],
   "source": [
    "grouped = cancerOP.groupby(['STUDY_ID'])\n",
    "patientSexOP = grouped['SEX'].mean()\n",
    "OPSex = pd.DataFrame(patientSexOP)"
   ]
  },
  {
   "cell_type": "code",
   "execution_count": null,
   "metadata": {
    "collapsed": true
   },
   "outputs": [],
   "source": [
    "grouped = cancerAE.groupby(['STUDY_ID'])\n",
    "patientSexAE = grouped['SEX'].mean()\n",
    "AESex = pd.DataFrame(patientSexAE)"
   ]
  },
  {
   "cell_type": "code",
   "execution_count": null,
   "metadata": {
    "collapsed": false
   },
   "outputs": [],
   "source": [
    "Sex = pd.merge(APCSex, OPSex, left_index=True, right_index=True, how='outer')  #merge all the dataframes"
   ]
  },
  {
   "cell_type": "code",
   "execution_count": null,
   "metadata": {
    "collapsed": true
   },
   "outputs": [],
   "source": [
    "Sex = pd.merge(Sex, AESex, left_index=True, right_index=True, how='outer')"
   ]
  },
  {
   "cell_type": "code",
   "execution_count": null,
   "metadata": {
    "collapsed": false
   },
   "outputs": [],
   "source": [
    "Sex['Mean'] = Sex[['SEX_x', 'SEX_y', 'SEX']].mean(axis=1)     #add a new column which is a mean of all the mean SEX scores"
   ]
  },
  {
   "cell_type": "code",
   "execution_count": null,
   "metadata": {
    "collapsed": false
   },
   "outputs": [],
   "source": [
    "Sex.to_excel('sex.xlsx')  #sent to excel"
   ]
  },
  {
   "cell_type": "markdown",
   "metadata": {},
   "source": [
    "Check to gender of the RD patients"
   ]
  },
  {
   "cell_type": "code",
   "execution_count": null,
   "metadata": {
    "collapsed": false
   },
   "outputs": [],
   "source": [
    "grouped = dataAPC.groupby(['STUDY_ID'])\n",
    "patientSexAPC = grouped['SEX'].mean()\n",
    "APCSex = pd.DataFrame(patientSexAPC)"
   ]
  },
  {
   "cell_type": "code",
   "execution_count": null,
   "metadata": {
    "collapsed": true
   },
   "outputs": [],
   "source": [
    "grouped = dataOP.groupby(['STUDY_ID'])\n",
    "patientSexOP = grouped['SEX'].mean()\n",
    "OPSex = pd.DataFrame(patientSexOP)"
   ]
  },
  {
   "cell_type": "code",
   "execution_count": null,
   "metadata": {
    "collapsed": true
   },
   "outputs": [],
   "source": [
    "grouped = dataAE.groupby(['STUDY_ID'])\n",
    "patientSexAE = grouped['SEX'].mean()\n",
    "AESex = pd.DataFrame(patientSexAE)"
   ]
  },
  {
   "cell_type": "code",
   "execution_count": null,
   "metadata": {
    "collapsed": true
   },
   "outputs": [],
   "source": [
    "Sex = pd.merge(APCSex, OPSex, left_index=True, right_index=True, how='outer')"
   ]
  },
  {
   "cell_type": "code",
   "execution_count": null,
   "metadata": {
    "collapsed": true
   },
   "outputs": [],
   "source": [
    "Sex = pd.merge(Sex, AESex, left_index=True, right_index=True, how='outer')"
   ]
  },
  {
   "cell_type": "code",
   "execution_count": null,
   "metadata": {
    "collapsed": true
   },
   "outputs": [],
   "source": [
    "Sex['Mean'] = Sex[['SEX_x', 'SEX_y', 'SEX']].mean(axis=1)"
   ]
  },
  {
   "cell_type": "code",
   "execution_count": null,
   "metadata": {
    "collapsed": false
   },
   "outputs": [],
   "source": [
    "SexRD = Sex[~(Sex.index.isin(cancerIDs['STUDY_ID']))]  #remove cancer patients\n",
    "SexRD = Sex[(Sex.index > 10000)]  #remove the temporary pilot IDs which are less than 10000 - study IDs are 9 figures long"
   ]
  },
  {
   "cell_type": "code",
   "execution_count": null,
   "metadata": {
    "collapsed": true
   },
   "outputs": [],
   "source": [
    "odds = SexRD[((SexRD['Mean'] % 1) != 0)]   #find those with disagreeing sex values"
   ]
  },
  {
   "cell_type": "code",
   "execution_count": null,
   "metadata": {
    "collapsed": false
   },
   "outputs": [],
   "source": [
    "odds"
   ]
  },
  {
   "cell_type": "code",
   "execution_count": null,
   "metadata": {
    "collapsed": true
   },
   "outputs": [],
   "source": [
    "SexRD.to_excel('SexRD.xlsx')"
   ]
  },
  {
   "cell_type": "code",
   "execution_count": null,
   "metadata": {
    "collapsed": true
   },
   "outputs": [],
   "source": [
    "cancerAEID = set(cancerAE['STUDY_ID'])   #make sets of the study_ids to find out how many patients are included"
   ]
  },
  {
   "cell_type": "code",
   "execution_count": null,
   "metadata": {
    "collapsed": false
   },
   "outputs": [],
   "source": [
    "cancerAPCID = set(cancerAPC['STUDY_ID'])"
   ]
  },
  {
   "cell_type": "code",
   "execution_count": null,
   "metadata": {
    "collapsed": false
   },
   "outputs": [],
   "source": [
    "cancerOPID = set(cancerOP['STUDY_ID'])"
   ]
  },
  {
   "cell_type": "code",
   "execution_count": null,
   "metadata": {
    "collapsed": false
   },
   "outputs": [],
   "source": [
    "cancerHES = set(cancerIDs['STUDY_ID'])  #these are the IDs sent to HES"
   ]
  },
  {
   "cell_type": "code",
   "execution_count": null,
   "metadata": {
    "collapsed": false
   },
   "outputs": [],
   "source": [
    "cancerCCID = set(cancerCC['STUDY_ID'])   #there are 172 unique cancer participants in the CC set"
   ]
  },
  {
   "cell_type": "code",
   "execution_count": null,
   "metadata": {
    "collapsed": false
   },
   "outputs": [],
   "source": [
    "len(cancerHES)  #this is the number of submissions to HES"
   ]
  },
  {
   "cell_type": "code",
   "execution_count": null,
   "metadata": {
    "collapsed": false
   },
   "outputs": [],
   "source": [
    "venn3([cancerAPCID, cancerCCID, cancerAEID], ('APC', 'CC', 'A&E'))"
   ]
  },
  {
   "cell_type": "code",
   "execution_count": null,
   "metadata": {
    "collapsed": false
   },
   "outputs": [],
   "source": [
    "venn3([cancerOPID, cancerCCID, cancerAEID], ('OP', 'CC', 'A&E'))"
   ]
  },
  {
   "cell_type": "code",
   "execution_count": null,
   "metadata": {
    "collapsed": true
   },
   "outputs": [],
   "source": [
    "overallSet = cancerAEID.union(cancerAPCID, cancerOPID, cancerCCID)  #this is the overall union of all HES participant IDs"
   ]
  },
  {
   "cell_type": "code",
   "execution_count": null,
   "metadata": {
    "collapsed": false
   },
   "outputs": [],
   "source": [
    "len(overallSet)  #this is how many participants were returned from HES"
   ]
  },
  {
   "cell_type": "markdown",
   "metadata": {
    "collapsed": true
   },
   "source": [
    "Conclusion is that 1020 out of 1025 pariticpants sent to HES were returned with at least one record in one of the four datasets, and in most cases records in two sets, and in many three or four sets."
   ]
  },
  {
   "cell_type": "code",
   "execution_count": null,
   "metadata": {
    "collapsed": false,
    "scrolled": true
   },
   "outputs": [],
   "source": [
    "cancerAE.MATCH_RANK.value_counts().plot(kind='pie')\n",
    "plt.axis('equal')"
   ]
  },
  {
   "cell_type": "code",
   "execution_count": null,
   "metadata": {
    "collapsed": false
   },
   "outputs": [],
   "source": [
    "cancerAPC.MATCH_RANK.value_counts().plot(kind='pie')\n",
    "plt.axis('equal')"
   ]
  },
  {
   "cell_type": "code",
   "execution_count": null,
   "metadata": {
    "collapsed": false
   },
   "outputs": [],
   "source": [
    "cancerOP.MATCH_RANK.value_counts().plot(kind='pie')\n",
    "plt.axis('equal')"
   ]
  },
  {
   "cell_type": "code",
   "execution_count": null,
   "metadata": {
    "collapsed": false
   },
   "outputs": [],
   "source": [
    "sortAE = cancerAE.sort_values(by='ARRIVALDATE')\n",
    "sortAE['ARRIVALDATE']"
   ]
  },
  {
   "cell_type": "code",
   "execution_count": null,
   "metadata": {
    "collapsed": false
   },
   "outputs": [],
   "source": [
    "APCsort=cancerAPC.sort_values(by='EPIEND')\n",
    "APCsort['EPIEND']"
   ]
  },
  {
   "cell_type": "code",
   "execution_count": null,
   "metadata": {
    "collapsed": false
   },
   "outputs": [],
   "source": [
    "OPsort = cancerOP.sort_values(by='APPTDATE')\n",
    "OPsort['APPTDATE']"
   ]
  },
  {
   "cell_type": "code",
   "execution_count": null,
   "metadata": {
    "collapsed": false
   },
   "outputs": [],
   "source": [
    "sortCC = cancerCC.sort_values(by='EPIEND')\n",
    "sortCC['EPIEND']"
   ]
  },
  {
   "cell_type": "code",
   "execution_count": null,
   "metadata": {
    "collapsed": true
   },
   "outputs": [],
   "source": [
    "fullFrame = pd.DataFrame(pd.concat([cancerAE['STUDY_ID'], cancerAPC['STUDY_ID'], cancerOP['STUDY_ID'], cancerCC['STUDY_ID']], ignore_index=True))"
   ]
  },
  {
   "cell_type": "code",
   "execution_count": null,
   "metadata": {
    "collapsed": false
   },
   "outputs": [],
   "source": [
    "len(fullFrame)  #50006 records for the cancer patients"
   ]
  },
  {
   "cell_type": "code",
   "execution_count": null,
   "metadata": {
    "collapsed": false
   },
   "outputs": [],
   "source": [
    "fullFrame"
   ]
  },
  {
   "cell_type": "code",
   "execution_count": null,
   "metadata": {
    "collapsed": false
   },
   "outputs": [],
   "source": [
    "fullFrame['STUDY_ID'].value_counts()"
   ]
  },
  {
   "cell_type": "code",
   "execution_count": null,
   "metadata": {
    "collapsed": false
   },
   "outputs": [],
   "source": [
    "fullFrame.STUDY_ID.value_counts().plot(kind='hist',bins=[0,1,2,5,10,20,50,100,200,500])\n",
    "plt.xscale('log')\n",
    "plt.xlabel('No. of records')"
   ]
  },
  {
   "cell_type": "markdown",
   "metadata": {},
   "source": [
    "## Create subsets of each data set in order to analyse data in detail"
   ]
  },
  {
   "cell_type": "code",
   "execution_count": null,
   "metadata": {
    "collapsed": false
   },
   "outputs": [],
   "source": [
    "AE_subset = cancerAE.reindex(columns=['STUDY_ID', 'ARRIVALDATE', 'DIAG_01'])  #create a subset with only the ID and date"
   ]
  },
  {
   "cell_type": "code",
   "execution_count": null,
   "metadata": {
    "collapsed": false
   },
   "outputs": [],
   "source": [
    "AE_subset['DATE'] = pd.to_datetime(AE_subset['ARRIVALDATE'])"
   ]
  },
  {
   "cell_type": "code",
   "execution_count": null,
   "metadata": {
    "collapsed": true
   },
   "outputs": [],
   "source": [
    "AE_subset['source'] = 'A&E'   #add a column to indicate the data set source"
   ]
  },
  {
   "cell_type": "code",
   "execution_count": null,
   "metadata": {
    "collapsed": true
   },
   "outputs": [],
   "source": [
    "APC_subset = cancerAPC.reindex(columns=['STUDY_ID', 'EPIEND', 'DIAG_01'])"
   ]
  },
  {
   "cell_type": "code",
   "execution_count": null,
   "metadata": {
    "collapsed": true
   },
   "outputs": [],
   "source": [
    "APC_subset['DATE'] = pd.to_datetime(APC_subset['EPIEND'])"
   ]
  },
  {
   "cell_type": "code",
   "execution_count": null,
   "metadata": {
    "collapsed": false
   },
   "outputs": [],
   "source": [
    "APC_subset = APC_subset.dropna()  #need to get rid of the NaT values"
   ]
  },
  {
   "cell_type": "code",
   "execution_count": null,
   "metadata": {
    "collapsed": true
   },
   "outputs": [],
   "source": [
    "APC_subset['source'] = 'In patient'"
   ]
  },
  {
   "cell_type": "code",
   "execution_count": null,
   "metadata": {
    "collapsed": true
   },
   "outputs": [],
   "source": [
    "OP_subset = cancerOP.reindex(columns = ['STUDY_ID', 'APPTDATE', 'DIAG_01'])"
   ]
  },
  {
   "cell_type": "code",
   "execution_count": null,
   "metadata": {
    "collapsed": true
   },
   "outputs": [],
   "source": [
    "OP_subset['DATE'] = pd.to_datetime(OP_subset['APPTDATE'])"
   ]
  },
  {
   "cell_type": "code",
   "execution_count": null,
   "metadata": {
    "collapsed": true
   },
   "outputs": [],
   "source": [
    "OP_subset = OP_subset.dropna()"
   ]
  },
  {
   "cell_type": "code",
   "execution_count": null,
   "metadata": {
    "collapsed": true
   },
   "outputs": [],
   "source": [
    "OP_subset['source'] = 'Out patient'"
   ]
  },
  {
   "cell_type": "code",
   "execution_count": null,
   "metadata": {
    "collapsed": false
   },
   "outputs": [],
   "source": [
    "CC_subset = cancerCC.reindex(columns = ['STUDY_ID', 'EPIEND'])"
   ]
  },
  {
   "cell_type": "code",
   "execution_count": null,
   "metadata": {
    "collapsed": true
   },
   "outputs": [],
   "source": [
    "CC_subset['DATE'] = pd.to_datetime(CC_subset['EPIEND'])"
   ]
  },
  {
   "cell_type": "code",
   "execution_count": null,
   "metadata": {
    "collapsed": true
   },
   "outputs": [],
   "source": [
    "CC_subset = CC_subset.dropna()"
   ]
  },
  {
   "cell_type": "code",
   "execution_count": null,
   "metadata": {
    "collapsed": true
   },
   "outputs": [],
   "source": [
    "CC_subset['source'] = 'Critical Care'"
   ]
  },
  {
   "cell_type": "code",
   "execution_count": null,
   "metadata": {
    "collapsed": false
   },
   "outputs": [],
   "source": [
    "subsets = pd.concat([APC_subset, AE_subset, OP_subset, CC_subset])   #add all the subsets together"
   ]
  },
  {
   "cell_type": "code",
   "execution_count": null,
   "metadata": {
    "collapsed": false
   },
   "outputs": [],
   "source": [
    "groups = subsets.groupby('source')   #create a timeseries plot grouped by the data source\n",
    "fig, ax = plt.subplots()\n",
    "fig.set_size_inches(15, 10)\n",
    "ax.set_ylim(218000020,218000100)\n",
    "ax.set_ylabel('Patient number')\n",
    "ax.set_prop_cycle(cycler('color', ['r', 'y', 'b', 'g']))\n",
    "for name, group in groups:\n",
    "    ax.plot(group['DATE'], group['STUDY_ID'], label=name, linestyle='none', marker='o', alpha=1)\n",
    "ax.legend(loc='best')\n",
    "\n",
    "plt.show()"
   ]
  },
  {
   "cell_type": "markdown",
   "metadata": {},
   "source": [
    "## Look at primary diagnosis codes in the data sets - these are by report, not by patient. Critical care does not have a diagnosis code. OP and APC use ICD-10 codes, AE uses its own list of values"
   ]
  },
  {
   "cell_type": "code",
   "execution_count": null,
   "metadata": {
    "collapsed": false
   },
   "outputs": [],
   "source": [
    "cancerDiagFreqAPC = cancerAPC['Diag_3_01'].value_counts()"
   ]
  },
  {
   "cell_type": "code",
   "execution_count": null,
   "metadata": {
    "collapsed": false
   },
   "outputs": [],
   "source": [
    "len(cancerDiagFreqAPC)"
   ]
  },
  {
   "cell_type": "code",
   "execution_count": null,
   "metadata": {
    "collapsed": false
   },
   "outputs": [],
   "source": [
    "cancerDiagFreqAPC = cancerDiagFreqAPC.rename(lambda x: getICD(x))  #replace ICD codes with disease names"
   ]
  },
  {
   "cell_type": "code",
   "execution_count": null,
   "metadata": {
    "collapsed": false,
    "scrolled": true
   },
   "outputs": [],
   "source": [
    "cancerDiagFreqAPC[cancerDiagFreqAPC > 25].plot(kind='bar', figsize = (20,5), title = 'APC primary diagnosis frequency for cancer patients')"
   ]
  },
  {
   "cell_type": "code",
   "execution_count": null,
   "metadata": {
    "collapsed": true
   },
   "outputs": [],
   "source": [
    "cancerDiagFreqOP = cancerOP['DIAG_3_01'].value_counts()"
   ]
  },
  {
   "cell_type": "code",
   "execution_count": null,
   "metadata": {
    "collapsed": false
   },
   "outputs": [],
   "source": [
    "cancerDiagFreqOP = cancerDiagFreqOP.rename(lambda x: getICD(x))"
   ]
  },
  {
   "cell_type": "code",
   "execution_count": null,
   "metadata": {
    "collapsed": false,
    "scrolled": true
   },
   "outputs": [],
   "source": [
    "cancerDiagFreqOP[(cancerDiagFreqOP < 5000) & (cancerDiagFreqOP > 5)].plot(kind='bar', figsize = (20,5), title = 'OP primary diagnosis frequency for cancer patients')"
   ]
  },
  {
   "cell_type": "markdown",
   "metadata": {},
   "source": [
    "**Note** that the most frequent value was 'R69 Illness, unspecified' with 36436 reports"
   ]
  },
  {
   "cell_type": "code",
   "execution_count": null,
   "metadata": {
    "collapsed": false
   },
   "outputs": [],
   "source": [
    "cancerDiagFreqAE = cancerAE['DIAG2_01'].value_counts()\n",
    "cancerDiagFreqAE = cancerDiagFreqAE.rename(lambda x: getAE(x))"
   ]
  },
  {
   "cell_type": "code",
   "execution_count": null,
   "metadata": {
    "collapsed": false
   },
   "outputs": [],
   "source": [
    "cancerDiagFreqAE"
   ]
  },
  {
   "cell_type": "code",
   "execution_count": null,
   "metadata": {
    "collapsed": false,
    "scrolled": false
   },
   "outputs": [],
   "source": [
    "cancerDiagFreqAE[cancerDiagFreqAE > 4].plot(kind='bar', figsize = (20,5), title = 'A&E diagnosis frequency for cancer patients')"
   ]
  },
  {
   "cell_type": "code",
   "execution_count": null,
   "metadata": {
    "collapsed": true
   },
   "outputs": [],
   "source": [
    "cancerAPC1ry = cancerAPC.loc[cancerAPC['DIAG_01'].str.contains('C|D1|D2|D3|D4',na=False)]  #get just ICD = C or D1-D4 primarys"
   ]
  },
  {
   "cell_type": "code",
   "execution_count": null,
   "metadata": {
    "collapsed": true
   },
   "outputs": [],
   "source": [
    "cancerOP1ry = cancerOP.loc[cancerOP['DIAG_01'].str.contains('C|D1|D2|D3|D4',na=False)]  #get just ICD = C or D1-D4 primarys"
   ]
  },
  {
   "cell_type": "code",
   "execution_count": null,
   "metadata": {
    "collapsed": true
   },
   "outputs": [],
   "source": [
    "cancerAE1ry = cancerAE.loc[cancerAE['DIAG_01'].str.contains('C|D1|D2|D3|D4',na=False)]  #get just ICD = C or D1-D4 primarys"
   ]
  },
  {
   "cell_type": "code",
   "execution_count": null,
   "metadata": {
    "collapsed": true
   },
   "outputs": [],
   "source": [
    "cancer1ryset = set(cancerAPC1ry['STUDY_ID'].unique()).union(set(cancerOP1ry['STUDY_ID'].unique()), set(cancerAE1ry['STUDY_ID'].unique()))"
   ]
  },
  {
   "cell_type": "code",
   "execution_count": null,
   "metadata": {
    "collapsed": false
   },
   "outputs": [],
   "source": [
    "len(cancer1ryset)  #this is the set of all particpant IDs that have a primary cancer diagnosis"
   ]
  },
  {
   "cell_type": "code",
   "execution_count": null,
   "metadata": {
    "collapsed": false
   },
   "outputs": [],
   "source": [
    "APC1ry = cancerAPC[cancerAPC['STUDY_ID'].isin(cancer1ryset)]['Diag_3_01'].value_counts()"
   ]
  },
  {
   "cell_type": "code",
   "execution_count": null,
   "metadata": {
    "collapsed": false
   },
   "outputs": [],
   "source": [
    "APC1ry[APC1ry > 25].plot(kind='bar', figsize = (20,5), title = 'APC primary diagnosis frequency for cancer patients')"
   ]
  },
  {
   "cell_type": "code",
   "execution_count": null,
   "metadata": {
    "collapsed": false
   },
   "outputs": [],
   "source": [
    "APC1rysubset = cancerAPC[cancerAPC['STUDY_ID'].isin(cancer1ryset)]\n"
   ]
  },
  {
   "cell_type": "code",
   "execution_count": null,
   "metadata": {
    "collapsed": false
   },
   "outputs": [],
   "source": [
    "len(subsets)"
   ]
  },
  {
   "cell_type": "code",
   "execution_count": null,
   "metadata": {
    "collapsed": false
   },
   "outputs": [],
   "source": [
    "subsets.head()"
   ]
  },
  {
   "cell_type": "code",
   "execution_count": null,
   "metadata": {
    "collapsed": true
   },
   "outputs": [],
   "source": [
    "subsetsCa = subsets[subsets.STUDY_ID.isin(cancer1ryset)]"
   ]
  },
  {
   "cell_type": "code",
   "execution_count": null,
   "metadata": {
    "collapsed": false
   },
   "outputs": [],
   "source": [
    "len(subsetsCa)"
   ]
  },
  {
   "cell_type": "code",
   "execution_count": null,
   "metadata": {
    "collapsed": true
   },
   "outputs": [],
   "source": [
    "subsetCa1 = subsetsCa[subsetsCa['DIAG_01'].str.contains('C|D1|D2|D3|D4',na=False)]"
   ]
  },
  {
   "cell_type": "code",
   "execution_count": null,
   "metadata": {
    "collapsed": true
   },
   "outputs": [],
   "source": [
    "subsetCa2 = subsetsCa[~subsetsCa['DIAG_01'].str.contains('C|D1|D2|D3|D4',na=False)]"
   ]
  },
  {
   "cell_type": "code",
   "execution_count": null,
   "metadata": {
    "collapsed": false,
    "scrolled": false
   },
   "outputs": [],
   "source": [
    "groups1 = subsetCa1.groupby('source')   #create a timeseries plot grouped by the data source\n",
    "groups2 = subsetCa2.groupby('source')\n",
    "fig, ax = plt.subplots()\n",
    "fig.set_size_inches(15, 10)\n",
    "ax.set_ylim(218000000,218000200)\n",
    "ax.set_xlim(pd.Timestamp('2014-01-01'), pd.Timestamp('2016-07-31'))\n",
    "ax.set_ylabel('Patient number')\n",
    "ax.set_prop_cycle(cycler('color', ['r', 'y', 'b', 'g']))\n",
    "for name, group in groups1:\n",
    "    ax.plot(group['DATE'], group['STUDY_ID'], label=name, linestyle='none', marker='D', alpha=1)\n",
    "for name, group in groups2:  \n",
    "    ax.plot(group['DATE'], group['STUDY_ID'], label=name, linestyle='none', marker='+', alpha=1)\n",
    "ax.legend(loc='best')\n",
    "\n",
    "plt.show()"
   ]
  },
  {
   "cell_type": "code",
   "execution_count": null,
   "metadata": {
    "collapsed": true
   },
   "outputs": [],
   "source": []
  }
 ],
 "metadata": {
  "kernelspec": {
   "display_name": "Python 3",
   "language": "python",
   "name": "python3"
  },
  "language_info": {
   "codemirror_mode": {
    "name": "ipython",
    "version": 3
   },
   "file_extension": ".py",
   "mimetype": "text/x-python",
   "name": "python",
   "nbconvert_exporter": "python",
   "pygments_lexer": "ipython3",
   "version": "3.5.1"
  }
 },
 "nbformat": 4,
 "nbformat_minor": 0
}
