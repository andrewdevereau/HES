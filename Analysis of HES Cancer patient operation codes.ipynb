{
 "cells": [
  {
   "cell_type": "code",
   "execution_count": null,
   "metadata": {
    "collapsed": false
   },
   "outputs": [],
   "source": [
    "import pandas as pd\n",
    "import numpy as np\n",
    "from matplotlib_venn import venn3\n",
    "from matplotlib_venn import venn2\n",
    "import matplotlib.pyplot as plt\n",
    "import xml.etree.ElementTree as ET\n",
    "from cycler import cycler\n",
    "%matplotlib inline"
   ]
  },
  {
   "cell_type": "markdown",
   "metadata": {},
   "source": [
    "## First load the HES datasets"
   ]
  },
  {
   "cell_type": "code",
   "execution_count": null,
   "metadata": {
    "collapsed": true
   },
   "outputs": [],
   "source": [
    "location = 'C:/Users/Andrew Devereau/Documents/GeL/secondary data/Data applications/HES return October 2016/'\n",
    "filename = 'NIC12784_AE.txt'"
   ]
  },
  {
   "cell_type": "code",
   "execution_count": null,
   "metadata": {
    "collapsed": false,
    "scrolled": true
   },
   "outputs": [],
   "source": [
    "dataAE = pd.read_csv(location+filename, sep='|')  #this is the A&E data set"
   ]
  },
  {
   "cell_type": "code",
   "execution_count": null,
   "metadata": {
    "collapsed": true
   },
   "outputs": [],
   "source": [
    "filename = 'NIC12784_CC.txt'  #Critical care dataset\n",
    "dataCC = pd.read_csv(location+filename, sep='|')"
   ]
  },
  {
   "cell_type": "code",
   "execution_count": null,
   "metadata": {
    "collapsed": false
   },
   "outputs": [],
   "source": [
    "filename = 'NIC12784_APC.txt'   #this is the admitted patient care dataset\n",
    "dataAPC = pd.read_csv(location+filename, sep='|')"
   ]
  },
  {
   "cell_type": "code",
   "execution_count": null,
   "metadata": {
    "collapsed": false
   },
   "outputs": [],
   "source": [
    "filename = 'NIC12784_OP.txt'   #this is the outpatient dataset\n",
    "dataOP = pd.read_csv(location+filename, sep='|')"
   ]
  },
  {
   "cell_type": "markdown",
   "metadata": {},
   "source": [
    "### Get the cancer participants"
   ]
  },
  {
   "cell_type": "code",
   "execution_count": null,
   "metadata": {
    "collapsed": true
   },
   "outputs": [],
   "source": [
    "filename = 'Cancer.csv'\n",
    "cancerIDs = pd.read_csv(location+filename, sep=',')  #get the set of cancer patients sent to HES"
   ]
  },
  {
   "cell_type": "code",
   "execution_count": null,
   "metadata": {
    "collapsed": true
   },
   "outputs": [],
   "source": [
    "cancerIDs = cancerIDs.rename(columns = {'Participant Id':'STUDY_ID'})  #rename the participant Id to STUDY_ID to match results"
   ]
  },
  {
   "cell_type": "markdown",
   "metadata": {},
   "source": [
    "### Load the ICD, AE and specialty code lookup files and define lookup functions"
   ]
  },
  {
   "cell_type": "code",
   "execution_count": null,
   "metadata": {
    "collapsed": true
   },
   "outputs": [],
   "source": [
    "filename = 'Tabular.xml'       #get ICD10 code list to convert codes to names\n",
    "ICDtree = ET.parse(location+filename)\n",
    "ICDroot = ICDtree.getroot()"
   ]
  },
  {
   "cell_type": "code",
   "execution_count": null,
   "metadata": {
    "collapsed": false
   },
   "outputs": [],
   "source": [
    "def getICD(search):  #look up ICD disease name from a search code\n",
    "    for code in ICDroot.iter('diag'):\n",
    "        name = code.find('name').text\n",
    "        if name == search:\n",
    "            desc = code.find('desc').text\n",
    "            return(search + ' ' + desc)"
   ]
  },
  {
   "cell_type": "code",
   "execution_count": null,
   "metadata": {
    "collapsed": false
   },
   "outputs": [],
   "source": [
    "filename = 'ae.txt'\n",
    "aecode = {}\n",
    "with open(location+filename) as f:\n",
    "    for line in f:\n",
    "       (key, val) = line.split('\\t')\n",
    "       aecode[int(key)] = val.strip()"
   ]
  },
  {
   "cell_type": "code",
   "execution_count": null,
   "metadata": {
    "collapsed": false
   },
   "outputs": [],
   "source": [
    "def getAE(search): #look up diag code in AE data \n",
    "    try:\n",
    "        return (aecode[int(search)])\n",
    "    except:\n",
    "        return('None')"
   ]
  },
  {
   "cell_type": "code",
   "execution_count": null,
   "metadata": {
    "collapsed": false
   },
   "outputs": [],
   "source": [
    "filename = 'spefCode.txt'\n",
    "spefCode = {}\n",
    "with open(location+filename) as f:\n",
    "    for line in f:\n",
    "       (key, val) = line.split('\\t')\n",
    "       spefCode[key] = val.strip()"
   ]
  },
  {
   "cell_type": "code",
   "execution_count": null,
   "metadata": {
    "collapsed": true
   },
   "outputs": [],
   "source": [
    "def getSpef(search): #look up speciality codes\n",
    "    try:\n",
    "        return (spefCode[search])\n",
    "    except:\n",
    "        return('None')"
   ]
  },
  {
   "cell_type": "code",
   "execution_count": null,
   "metadata": {
    "collapsed": false
   },
   "outputs": [],
   "source": [
    "filename = 'OPCS47 CodesAndTitles Nov 2013 V1.0.txt'\n",
    "OPCSCode = {}\n",
    "with open(location+filename) as f:\n",
    "    for line in f:\n",
    "        (key, val) = line.split('\\t')\n",
    "        OPCSCode[key] = val.strip()"
   ]
  },
  {
   "cell_type": "code",
   "execution_count": null,
   "metadata": {
    "collapsed": true
   },
   "outputs": [],
   "source": [
    "def getOPCS (code): #get the OPCS description from the code\n",
    "    if len(code) > 3: #HES gives OPCS codes as a letter with three numbers with no decimal point - add one if the code is four characters long\n",
    "        code = code[:3] + '.' + code[3:]\n",
    "    try:\n",
    "        return (OPCSCode[code])\n",
    "    except:\n",
    "        return('None')"
   ]
  },
  {
   "cell_type": "code",
   "execution_count": null,
   "metadata": {
    "collapsed": false
   },
   "outputs": [],
   "source": [
    "def getNo (prefix, min, max): #generate a serial number string up to max with prefix, e.g. 'OPERTN_01..24'\n",
    "    for no in range (min ,max+1):\n",
    "        if no < 10:\n",
    "            yield (prefix + '0' + str(no))\n",
    "        else:\n",
    "            yield (prefix + str(no))"
   ]
  },
  {
   "cell_type": "markdown",
   "metadata": {},
   "source": [
    "### merge CC with APC to match study id with susrecid"
   ]
  },
  {
   "cell_type": "code",
   "execution_count": null,
   "metadata": {
    "collapsed": false
   },
   "outputs": [],
   "source": [
    "CCmerge = pd.merge(dataCC, dataAPC, on='SUSRECID', how = 'left')   "
   ]
  },
  {
   "cell_type": "markdown",
   "metadata": {},
   "source": [
    "### Make cancer subsets of the HES data sets"
   ]
  },
  {
   "cell_type": "code",
   "execution_count": null,
   "metadata": {
    "collapsed": true
   },
   "outputs": [],
   "source": [
    "cancerCC = CCmerge[(CCmerge['STUDY_ID'].isin(cancerIDs['STUDY_ID']))] "
   ]
  },
  {
   "cell_type": "code",
   "execution_count": null,
   "metadata": {
    "collapsed": false
   },
   "outputs": [],
   "source": [
    "cancerCC.info(verbose=True, null_counts=True)"
   ]
  },
  {
   "cell_type": "code",
   "execution_count": null,
   "metadata": {
    "collapsed": false
   },
   "outputs": [],
   "source": [
    "cancerAE = dataAE[(dataAE['STUDY_ID'].isin(cancerIDs['STUDY_ID']))] "
   ]
  },
  {
   "cell_type": "code",
   "execution_count": null,
   "metadata": {
    "collapsed": false
   },
   "outputs": [],
   "source": [
    "cancerAE.info()"
   ]
  },
  {
   "cell_type": "code",
   "execution_count": null,
   "metadata": {
    "collapsed": false
   },
   "outputs": [],
   "source": [
    "len(cancerAE['STUDY_ID'].value_counts())"
   ]
  },
  {
   "cell_type": "code",
   "execution_count": null,
   "metadata": {
    "collapsed": false
   },
   "outputs": [],
   "source": [
    "cancerAE.info(verbose=True, null_counts=True)"
   ]
  },
  {
   "cell_type": "code",
   "execution_count": null,
   "metadata": {
    "collapsed": false
   },
   "outputs": [],
   "source": [
    "cancerAPC = dataAPC[(dataAPC['STUDY_ID'].isin(cancerIDs['STUDY_ID']))]   #get cancer patients from APC results"
   ]
  },
  {
   "cell_type": "code",
   "execution_count": null,
   "metadata": {
    "collapsed": false
   },
   "outputs": [],
   "source": [
    "cancerAPC.info()"
   ]
  },
  {
   "cell_type": "code",
   "execution_count": null,
   "metadata": {
    "collapsed": false
   },
   "outputs": [],
   "source": [
    "len(cancerAPC['STUDY_ID'].value_counts())"
   ]
  },
  {
   "cell_type": "code",
   "execution_count": null,
   "metadata": {
    "collapsed": false
   },
   "outputs": [],
   "source": [
    "cancerAPC.info(verbose=True, null_counts=True)"
   ]
  },
  {
   "cell_type": "code",
   "execution_count": null,
   "metadata": {
    "collapsed": true
   },
   "outputs": [],
   "source": [
    "cancerOP = dataOP[(dataOP['STUDY_ID'].isin(cancerIDs['STUDY_ID']))]   #get cancer patients from OP results"
   ]
  },
  {
   "cell_type": "code",
   "execution_count": null,
   "metadata": {
    "collapsed": false
   },
   "outputs": [],
   "source": [
    "cancerOP.info(verbose=True, null_counts=True)"
   ]
  },
  {
   "cell_type": "markdown",
   "metadata": {},
   "source": [
    "### Add consent dates to the cancer data sets"
   ]
  },
  {
   "cell_type": "code",
   "execution_count": null,
   "metadata": {
    "collapsed": true
   },
   "outputs": [],
   "source": [
    "filename = 'cancer_consent_2016-11-28_16-34-24.xlsx'\n",
    "consentDates = pd.read_excel(location+filename)  #get consent dates"
   ]
  },
  {
   "cell_type": "code",
   "execution_count": null,
   "metadata": {
    "collapsed": false
   },
   "outputs": [],
   "source": [
    "consentDates = consentDates.drop_duplicates('Participant Identifiers Id', keep='first')  #remove duplicate records"
   ]
  },
  {
   "cell_type": "code",
   "execution_count": null,
   "metadata": {
    "collapsed": false,
    "scrolled": true
   },
   "outputs": [],
   "source": [
    "consentDates.drop(['Metadata Date', 'Event Date', 'Consent Given Id'], axis=1, inplace=True) #remove all columns except participant ID and date"
   ]
  },
  {
   "cell_type": "code",
   "execution_count": null,
   "metadata": {
    "collapsed": true
   },
   "outputs": [],
   "source": [
    "consentDates.rename(columns={'Participant Identifiers Id': 'STUDY_ID'}, inplace=True) #rename participant to STUDY_ID"
   ]
  },
  {
   "cell_type": "code",
   "execution_count": null,
   "metadata": {
    "collapsed": false
   },
   "outputs": [],
   "source": [
    "consentDates.head()"
   ]
  },
  {
   "cell_type": "code",
   "execution_count": null,
   "metadata": {
    "collapsed": false
   },
   "outputs": [],
   "source": [
    "cancerIDs[~(cancerIDs['STUDY_ID'].isin(consentDates['STUDY_ID']))]  #check for any cancerIDs not in the consentDates set"
   ]
  },
  {
   "cell_type": "code",
   "execution_count": null,
   "metadata": {
    "collapsed": false
   },
   "outputs": [],
   "source": [
    "cancerCC = pd.merge(cancerCC, consentDates, on='STUDY_ID', how = 'left')"
   ]
  },
  {
   "cell_type": "code",
   "execution_count": null,
   "metadata": {
    "collapsed": false
   },
   "outputs": [],
   "source": [
    "cancerAE = pd.merge(cancerAE, consentDates, on='STUDY_ID', how = 'left')\n",
    "cancerAPC = pd.merge(cancerAPC, consentDates, on='STUDY_ID', how = 'left')\n",
    "cancerOP = pd.merge(cancerOP, consentDates, on='STUDY_ID', how = 'left')"
   ]
  },
  {
   "cell_type": "markdown",
   "metadata": {},
   "source": [
    "### Look for cancer therapy history using OPCS codes in APC and OP"
   ]
  },
  {
   "cell_type": "code",
   "execution_count": null,
   "metadata": {
    "collapsed": false
   },
   "outputs": [],
   "source": [
    "#first aggregate all operation codes to look for errors, frequency etc.\n",
    "nameGen = getNo('OPERTN_', 24)   #get a generator to give the OPERTN_ column headings\n",
    "countList = []  #a list of series each holding value counts for a column of opertn codes\n",
    "for n in range(24): \n",
    "    countList.append(cancerAPC.groupby(next(nameGen)).size())  #get a series for each column with term frequencies\n",
    "counts = pd.concat(countList)   #concatenate all counts into one series"
   ]
  },
  {
   "cell_type": "code",
   "execution_count": null,
   "metadata": {
    "collapsed": false,
    "scrolled": true
   },
   "outputs": [],
   "source": [
    "len(counts.groupby(counts.index).sum())  #there are 1766 different operation codes used for cancer participants"
   ]
  },
  {
   "cell_type": "markdown",
   "metadata": {},
   "source": [
    "There are no cases of opertn values mixed between ints, strings and floats. There are many codes not given ('-') plus a few '&'"
   ]
  },
  {
   "cell_type": "code",
   "execution_count": null,
   "metadata": {
    "collapsed": false
   },
   "outputs": [],
   "source": [
    "opcsFreq = counts.groupby(counts.index).sum().sort_values(ascending=False).to_frame()\n",
    "opcsFreq.rename(columns={0:'frequency'}, inplace=True)\n",
    "opcsFreq['Operation'] = opcsFreq.index.map(getOPCS)"
   ]
  },
  {
   "cell_type": "code",
   "execution_count": null,
   "metadata": {
    "collapsed": false,
    "scrolled": true
   },
   "outputs": [],
   "source": [
    "opcsFreq"
   ]
  },
  {
   "cell_type": "code",
   "execution_count": null,
   "metadata": {
    "collapsed": true
   },
   "outputs": [],
   "source": [
    "opcsFreq.to_excel('operations.xlsx')  #get excel file to check through all codes for malformed values"
   ]
  },
  {
   "cell_type": "code",
   "execution_count": null,
   "metadata": {
    "collapsed": false
   },
   "outputs": [],
   "source": [
    "len(countList[0].groupby(countList[0].index).sum()) #just get the primary OPCS code i.e. OPERTN_01"
   ]
  },
  {
   "cell_type": "markdown",
   "metadata": {},
   "source": [
    "Get the primary operation code frequency"
   ]
  },
  {
   "cell_type": "code",
   "execution_count": null,
   "metadata": {
    "collapsed": true
   },
   "outputs": [],
   "source": [
    "opcsPrimaryFreq = countList[0].groupby(countList[0].index).sum().sort_values(ascending=False).to_frame()\n",
    "opcsPrimaryFreq.rename(columns={0:'frequency'}, inplace=True)\n",
    "opcsPrimaryFreq['Operation'] = opcsPrimaryFreq.index.map(getOPCS)"
   ]
  },
  {
   "cell_type": "code",
   "execution_count": null,
   "metadata": {
    "collapsed": false,
    "scrolled": true
   },
   "outputs": [],
   "source": [
    "opcsPrimaryFreq"
   ]
  },
  {
   "cell_type": "markdown",
   "metadata": {},
   "source": [
    "Get the secondary (OPERTN_02 - 24) operation frequency"
   ]
  },
  {
   "cell_type": "code",
   "execution_count": null,
   "metadata": {
    "collapsed": false
   },
   "outputs": [],
   "source": [
    "countsSecond = pd.concat(countList[1:24])   #concatenate all counts into one series for secondary data i.e. OPERTN_02 onwards\n",
    "opcsSecondFreq = countsSecond.groupby(countsSecond.index).sum().sort_values(ascending=False).to_frame()\n",
    "opcsSecondFreq.rename(columns={0:'frequency'}, inplace=True)\n",
    "opcsSecondFreq['Operation'] = opcsSecondFreq.index.map(getOPCS)"
   ]
  },
  {
   "cell_type": "code",
   "execution_count": null,
   "metadata": {
    "collapsed": false,
    "scrolled": true
   },
   "outputs": [],
   "source": [
    "opcsSecondFreq"
   ]
  },
  {
   "cell_type": "markdown",
   "metadata": {},
   "source": [
    "Get patients with radiotherapy or chemotherapy codes"
   ]
  },
  {
   "cell_type": "code",
   "execution_count": null,
   "metadata": {
    "collapsed": true
   },
   "outputs": [],
   "source": [
    "X65 = ['X651','X652','X653', 'X654', 'X655', 'X656','X657', 'X658', 'X659'] #radiotherapy delivery\n",
    "X67 = ['X671', 'Y672', 'Y673', 'Y674', 'Y675', 'Y676', 'Y677', 'Y678', 'Y679'] #Preparation for external beam radiotherapy\n",
    "X68 = ['X681', 'X682', 'X683', 'X688', 'X689'] #preparation for brachytheraphy\n",
    "Y90 = ['Y902'] #Radiotherapy NEC\n",
    "Y91 = ['Y911', 'Y911','Y912','Y913', 'Y914', 'Y915', 'Y918', 'Y919'] #External beam radiotherapy\n",
    "Y92 = ['Y921', 'Y928', 'Y929'] #Support for preparation for radiotherapy\n",
    "X3 = ['X352', 'X373', 'X384'] #Intravenous chemotherapy, Intramuscular chemotherapy, Subcutaneous chemotherapy\n",
    "Y3 = ['Y354', 'Y364'] #Introduction of radioactive substance into organ for brachytherapy NOC, Introduction of non-removable radioactive substance into organ for brachytherapy NOC\n",
    "Y89 = ['Y891', 'Y892', 'Y898', 'Y899'] #Brachytherapy\n",
    "X72 = ['X721','X722','X723','X724','X728','X729'] #Delivery of chemotherapy for neoplasm\n",
    "X70 = ['X721','X702','X703','X704','X705','X708','X709'] #Procurement of drugs for chemotherapy for neoplasm in Bands 1-5\n",
    "X71 = ['X721','X712','X713','X714','X715','X718','X719'] #Procurement of drugs for chemotherapy for neoplasm in Bands 6-10\n",
    "X73 = ['X721','X738','X739'] #Delivery of oral chemotherapy for neoplasm\n",
    "X74 = ['X741', 'X742', 'X748', 'X749'] #Other chemotherapy drugs"
   ]
  },
  {
   "cell_type": "code",
   "execution_count": null,
   "metadata": {
    "collapsed": false
   },
   "outputs": [],
   "source": [
    "caList = X65+X67+X68+Y90+Y91+Y92+X3+Y3+Y89+X72+X70+X71+X73+X74  #list of OPCS4 codes to indicate cancer treatment"
   ]
  },
  {
   "cell_type": "markdown",
   "metadata": {},
   "source": [
    "Get patients from APC data with cancer treatment code in any OPERTN field"
   ]
  },
  {
   "cell_type": "code",
   "execution_count": null,
   "metadata": {
    "collapsed": false
   },
   "outputs": [],
   "source": [
    "APCSet = set()\n",
    "for field in getNo ('OPERTN_', 24):\n",
    "    oncSet = set(cancerAPC[(cancerAPC[field].isin(caList)) & (pd.to_datetime(cancerAPC.ADMIDATE) < cancerAPC['Date Of Consent'])]['STUDY_ID'])\n",
    "    APCSet = APCSet.union(oncSet)\n",
    "print(len(APCSet))\n",
    "oncologyAPCPatientsOPCS = cancerAPC[cancerAPC.STUDY_ID.isin(APCSet)]"
   ]
  },
  {
   "cell_type": "code",
   "execution_count": null,
   "metadata": {
    "collapsed": false
   },
   "outputs": [],
   "source": [
    "len(oncologyAPCPatientsOPCS)"
   ]
  },
  {
   "cell_type": "markdown",
   "metadata": {},
   "source": [
    "Get patients from OP data with cancer treatment in any OPERTN field"
   ]
  },
  {
   "cell_type": "code",
   "execution_count": null,
   "metadata": {
    "collapsed": false
   },
   "outputs": [],
   "source": [
    "OPSet = set()\n",
    "for field in getNo ('OPERTN_',1, 24):\n",
    "    oncSet = set(cancerOP[(cancerOP[field].isin(caList)) & (pd.to_datetime(cancerOP.APPTDATE) < cancerOP['Date Of Consent'])]['STUDY_ID'])\n",
    "    OPSet = OPSet.union(oncSet)\n",
    "print(len(OPSet))\n",
    "oncologyOPPatientsOPCS = cancerOP[cancerOP.STUDY_ID.isin(OPSet)]"
   ]
  },
  {
   "cell_type": "code",
   "execution_count": null,
   "metadata": {
    "collapsed": false
   },
   "outputs": [],
   "source": [
    "len(oncologyOPPatientsOPCS)"
   ]
  },
  {
   "cell_type": "code",
   "execution_count": null,
   "metadata": {
    "collapsed": false
   },
   "outputs": [],
   "source": [
    "fullCaSet = OPSet.union(APCSet)\n",
    "len(fullCaSet)"
   ]
  },
  {
   "cell_type": "code",
   "execution_count": null,
   "metadata": {
    "collapsed": false
   },
   "outputs": [],
   "source": [
    "for f in sorted(fullCaSet):\n",
    "    print (f)"
   ]
  },
  {
   "cell_type": "markdown",
   "metadata": {},
   "source": [
    "Make subsets of the APC and OP data for the Ca patients. These include all columns."
   ]
  },
  {
   "cell_type": "code",
   "execution_count": null,
   "metadata": {
    "collapsed": true
   },
   "outputs": [],
   "source": [
    "cancerHistoryAPC = cancerAPC[(cancerAPC['STUDY_ID'].isin(fullCaSet))]\n",
    "cancerHistoryOP = cancerOP[(cancerOP['STUDY_ID'].isin(fullCaSet))]"
   ]
  },
  {
   "cell_type": "markdown",
   "metadata": {},
   "source": [
    "Export spreadsheets of the particpants in the subsets"
   ]
  },
  {
   "cell_type": "code",
   "execution_count": null,
   "metadata": {
    "collapsed": true
   },
   "outputs": [],
   "source": [
    "paList = list(cancerHistoryAPC['STUDY_ID'])"
   ]
  },
  {
   "cell_type": "code",
   "execution_count": null,
   "metadata": {
    "collapsed": false
   },
   "outputs": [],
   "source": [
    "len(paList)"
   ]
  },
  {
   "cell_type": "code",
   "execution_count": null,
   "metadata": {
    "collapsed": false
   },
   "outputs": [],
   "source": [
    "cancerHistoryAPC['STUDY_ID'].value_counts()"
   ]
  },
  {
   "cell_type": "code",
   "execution_count": null,
   "metadata": {
    "collapsed": false
   },
   "outputs": [],
   "source": [
    "for n in range(0,5):\n",
    "    \n",
    "    writer = pd.ExcelWriter(str(paList[n]) + '.xlsx')\n",
    "    cancerHistoryAPC[(cancerHistoryAPC['STUDY_ID'] == paList[n])].to_excel(writer, sheet_name = 'APC',index=False)\n",
    "    cancerHistoryOP[(cancerHistoryOP['STUDY_ID'] == paList[n])].to_excel(writer, sheet_name = 'OP',index=False)\n",
    "    cancerAE[(cancerAE['STUDY_ID'] == paList[n])].to_excel(writer, sheet_name = 'AE',index=False)\n",
    "    cancerCC[(cancerCC['STUDY_ID'] == paList[n])].to_excel(writer, sheet_name = 'CC',index=False)\n",
    "    writer.save()"
   ]
  },
  {
   "cell_type": "code",
   "execution_count": null,
   "metadata": {
    "collapsed": true
   },
   "outputs": [],
   "source": [
    "frameList = []\n",
    "for field in getNo ('OPERTN_',1, 24):\n",
    "    subframe = cancerHistoryAPC[['STUDY_ID', field, 'ADMIDATE']]\n",
    "    frameList.append(subframe)\n",
    "secondaryAPC = pd.concat(frameList)"
   ]
  },
  {
   "cell_type": "code",
   "execution_count": null,
   "metadata": {
    "collapsed": false
   },
   "outputs": [],
   "source": [
    "secondaryAPC"
   ]
  },
  {
   "cell_type": "code",
   "execution_count": null,
   "metadata": {
    "collapsed": false
   },
   "outputs": [],
   "source": [
    "cancerHistoryAPC[(cancerHistoryAPC['STUDY_ID'] == 221000052)][cancerHistoryAPC]"
   ]
  },
  {
   "cell_type": "code",
   "execution_count": null,
   "metadata": {
    "collapsed": true
   },
   "outputs": [],
   "source": [
    "cancerHistoryAPC = cancerHistoryAPC.rename(columns = {'ADMIDATE':'DATE'}) #rename the date to a common heading of DATE\n",
    "cancerHistoryOP = cancerHistoryOP.rename(columns = {'APPTDATE':'DATE'}) "
   ]
  },
  {
   "cell_type": "code",
   "execution_count": null,
   "metadata": {
    "collapsed": true
   },
   "outputs": [],
   "source": [
    "def getNewID (ID, IDDict):   #function to create new participant ID for plotting purposes\n",
    "    return IDDict.get(ID)"
   ]
  },
  {
   "cell_type": "code",
   "execution_count": null,
   "metadata": {
    "collapsed": false
   },
   "outputs": [],
   "source": [
    "IDs = list(np.sort(cancerHistoryAPC['STUDY_ID'].unique()))\n",
    "newIDs = list(int(x) for x in range(1,len(IDs)))\n",
    "zipped = zip(IDs, newIDs)\n",
    "IDDictAPC = dict(zip(IDs, newIDs))   #create a dictionary mapping STUDY_ID to a new smaller ID for plotting of data"
   ]
  },
  {
   "cell_type": "code",
   "execution_count": null,
   "metadata": {
    "collapsed": true
   },
   "outputs": [],
   "source": [
    "IDs = list(np.sort(cancerHistoryOP['STUDY_ID'].unique()))\n",
    "newIDs = list(int(x) for x in range(1,len(IDs)))\n",
    "zipped = zip(IDs, newIDs)\n",
    "IDDictOP = dict(zip(IDs, newIDs))   #create a dictionary mapping STUDY_ID to a new smaller ID for plotting of data"
   ]
  },
  {
   "cell_type": "code",
   "execution_count": null,
   "metadata": {
    "collapsed": false
   },
   "outputs": [],
   "source": [
    "cancerHistoryAPC['ID'] = cancerHistoryAPC['STUDY_ID'].apply(getNewID, args =(IDDictAPC,))  #add new column with new ID"
   ]
  },
  {
   "cell_type": "code",
   "execution_count": null,
   "metadata": {
    "collapsed": true
   },
   "outputs": [],
   "source": [
    "cancerHistoryOP['ID'] = cancerHistoryOP['STUDY_ID'].apply(getNewID, args =(IDDictOP,))  #add new column with new ID"
   ]
  },
  {
   "cell_type": "code",
   "execution_count": null,
   "metadata": {
    "collapsed": false
   },
   "outputs": [],
   "source": [
    "groups1 = cancerHistoryAPC.groupby('OPERTN_01')   #create a timeseries plot grouped by primary operation code\n",
    "groups2 = cancerHistoryOP.groupby('OPERTN_01')\n",
    "fig, ax = plt.subplots()\n",
    "fig.set_size_inches(15, 10)\n",
    "ax.set_ylabel('Patient number')\n",
    "#ax.set_xlim(pd.to_datetime('2015'),pd.to_datetime('2016'))\n",
    "for name, group in groups1:\n",
    "    if name in caList:\n",
    "        ax.plot(pd.to_datetime(group['DATE']), group['ID'], label = name, linestyle='none', marker='o', color = 'r', alpha=1)\n",
    "    else:\n",
    "        ax.plot(pd.to_datetime(group['DATE']), group['ID'], label = name, linestyle='none', marker='.', color = 'b', alpha=0.5)\n",
    "for name, group in groups2:\n",
    "    if name in caList:\n",
    "        ax.plot(pd.to_datetime(group['DATE']), group['ID'], label = name, linestyle='none', marker='o', color = 'g', alpha=1)\n",
    "    else:\n",
    "        ax.plot(pd.to_datetime(group['DATE']), group['ID'], label = name, linestyle='none', marker='.', color = 'b', alpha=0.5)\n",
    "#ax.legend(loc='best')\n",
    "ax.title\n",
    "plt.show()"
   ]
  },
  {
   "cell_type": "code",
   "execution_count": null,
   "metadata": {
    "collapsed": false
   },
   "outputs": [],
   "source": [
    "frameList = []\n",
    "for field in getNo ('OPERTN_',2, 24):\n",
    "    subframe = cancerHistoryAPC[[field, 'DATE', 'ID']]\n",
    "    subframe.rename(columns={field:'OPERTN'}, inplace=True)\n",
    "    frameList.append(subframe)\n",
    "secondaryAPC = pd.concat(frameList)"
   ]
  },
  {
   "cell_type": "code",
   "execution_count": null,
   "metadata": {
    "collapsed": false
   },
   "outputs": [],
   "source": [
    "frameList = []\n",
    "for field in getNo ('OPERTN_',2, 24):\n",
    "    subframe = cancerHistoryOP[[field, 'DATE', 'ID']]\n",
    "    subframe.rename(columns={field:'OPERTN'}, inplace=True)\n",
    "    frameList.append(subframe)\n",
    "secondaryOP = pd.concat(frameList)"
   ]
  },
  {
   "cell_type": "code",
   "execution_count": null,
   "metadata": {
    "collapsed": false,
    "scrolled": false
   },
   "outputs": [],
   "source": [
    "groups1 = secondaryAPC.groupby('OPERTN')   #create a timeseries plot grouped by primary operation code\n",
    "groups2 = secondaryOP.groupby('OPERTN')\n",
    "fig, ax = plt.subplots()\n",
    "fig.set_size_inches(15, 10)\n",
    "ax.set_ylabel('Patient number')\n",
    "#ax.set_xlim(pd.to_datetime('2015'),pd.to_datetime('2016'))\n",
    "for name, group in groups1:\n",
    "    if name in caList:\n",
    "        ax.plot(pd.to_datetime(group['DATE']), group['ID'], label = name, linestyle='none', marker='o', color = 'r', alpha=1)\n",
    "    else:\n",
    "        ax.plot(pd.to_datetime(group['DATE']), group['ID'], label = name, linestyle='none', marker='.', color = 'b', alpha=0.5)\n",
    "for name, group in groups2:\n",
    "    if name in caList:\n",
    "        ax.plot(pd.to_datetime(group['DATE']), group['ID'], label = name, linestyle='none', marker='o', color = 'g', alpha=1)\n",
    "    else:\n",
    "        ax.plot(pd.to_datetime(group['DATE']), group['ID'], label = name, linestyle='none', marker='.', color = 'b', alpha=0.5)\n",
    "#ax.legend(loc='best')\n",
    "ax.title\n",
    "plt.show()"
   ]
  },
  {
   "cell_type": "markdown",
   "metadata": {},
   "source": [
    "Look at intersection of participants with cancer treatment and those with oncology specialty"
   ]
  },
  {
   "cell_type": "code",
   "execution_count": null,
   "metadata": {
    "collapsed": true
   },
   "outputs": [],
   "source": [
    "oncHES = pd.read_excel('oncologyHES.xlsx')"
   ]
  },
  {
   "cell_type": "code",
   "execution_count": null,
   "metadata": {
    "collapsed": false
   },
   "outputs": [],
   "source": [
    "oncSet = set(oncHES.iloc[:,0])"
   ]
  },
  {
   "cell_type": "code",
   "execution_count": null,
   "metadata": {
    "collapsed": false
   },
   "outputs": [],
   "source": [
    "len(oncSet)"
   ]
  },
  {
   "cell_type": "code",
   "execution_count": null,
   "metadata": {
    "collapsed": false
   },
   "outputs": [],
   "source": [
    "venn2([oncSet, fullCaSet])"
   ]
  },
  {
   "cell_type": "code",
   "execution_count": null,
   "metadata": {
    "collapsed": true
   },
   "outputs": [],
   "source": [
    "noTreatmentset = fullCaSet- oncSet"
   ]
  },
  {
   "cell_type": "code",
   "execution_count": null,
   "metadata": {
    "collapsed": false
   },
   "outputs": [],
   "source": [
    "noTreatmentset  #these are people with no oncology history but with a treatment history"
   ]
  }
 ],
 "metadata": {
  "kernelspec": {
   "display_name": "Python 3",
   "language": "python",
   "name": "python3"
  },
  "language_info": {
   "codemirror_mode": {
    "name": "ipython",
    "version": 3
   },
   "file_extension": ".py",
   "mimetype": "text/x-python",
   "name": "python",
   "nbconvert_exporter": "python",
   "pygments_lexer": "ipython3",
   "version": "3.5.1"
  }
 },
 "nbformat": 4,
 "nbformat_minor": 0
}
